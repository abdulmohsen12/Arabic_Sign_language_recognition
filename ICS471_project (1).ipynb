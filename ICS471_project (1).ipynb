{
  "cells": [
    {
      "cell_type": "code",
      "execution_count": null,
      "id": "09d74fe4",
      "metadata": {
        "id": "09d74fe4"
      },
      "outputs": [],
      "source": [
        "import tensorflow as tf\n",
        "import keras\n",
        "import numpy as np\n",
        "import cv2\n",
        "import glob"
      ]
    },
    {
      "cell_type": "code",
      "source": [
        "from google.colab import drive\n",
        "drive.mount('/content/drive')"
      ],
      "metadata": {
        "colab": {
          "base_uri": "https://localhost:8080/"
        },
        "id": "M0mZkcGP4KV8",
        "outputId": "c024ebdc-0003-4493-c8d2-aa38963f7c12"
      },
      "id": "M0mZkcGP4KV8",
      "execution_count": null,
      "outputs": [
        {
          "output_type": "stream",
          "name": "stdout",
          "text": [
            "Mounted at /content/drive\n"
          ]
        }
      ]
    },
    {
      "cell_type": "code",
      "execution_count": null,
      "id": "86b7a396",
      "metadata": {
        "id": "86b7a396"
      },
      "outputs": [],
      "source": [
        "#Define some parameters for the loader\n",
        "\n",
        "IMG_SIZE = 256\n",
        "MAX_SEQ_LENGTH = 18\n",
        "NUM_FEATURES = 2048"
      ]
    },
    {
      "cell_type": "code",
      "execution_count": null,
      "id": "2357f1d3",
      "metadata": {
        "id": "2357f1d3"
      },
      "outputs": [],
      "source": [
        "np.random.seed(4)\n",
        "tf.random.set_seed(4)"
      ]
    },
    {
      "cell_type": "markdown",
      "id": "0021ec29",
      "metadata": {
        "id": "0021ec29"
      },
      "source": [
        "# Feature extraction"
      ]
    },
    {
      "cell_type": "code",
      "execution_count": null,
      "id": "a91bbeae",
      "metadata": {
        "colab": {
          "base_uri": "https://localhost:8080/"
        },
        "id": "a91bbeae",
        "outputId": "0b45a084-bbfd-4102-d757-e021337946ae"
      },
      "outputs": [
        {
          "output_type": "stream",
          "name": "stdout",
          "text": [
            "Downloading data from https://storage.googleapis.com/tensorflow/keras-applications/inception_v3/inception_v3_weights_tf_dim_ordering_tf_kernels_notop.h5\n",
            "87910968/87910968 [==============================] - 3s 0us/step\n"
          ]
        }
      ],
      "source": [
        "# def build_feature_extractor():\n",
        "#     InceptionV3_model = tf.keras.applications.InceptionV3(\n",
        "#         weights=\"imagenet\",\n",
        "#         include_top=False,\n",
        "#         pooling=\"avg\",\n",
        "#         input_shape=(IMG_SIZE, IMG_SIZE, 3),\n",
        "#     )\n",
        "\n",
        "#     inputs = keras.Input((IMG_SIZE, IMG_SIZE, 3))\n",
        "\n",
        "#     # preprocess the input\n",
        "#     preprocess_input = keras.applications.inception_v3.preprocess_input(inputs)\n",
        "\n",
        "#     # extract the features from the preprocessed input\n",
        "#     outputs = InceptionV3_model(preprocess_input)\n",
        "\n",
        "#     # form the final model \n",
        "#     myModel = keras.Model(inputs, outputs, name=\"feature_extractor\")\n",
        "    \n",
        "#     return myModel\n",
        "\n",
        "\n",
        "# feature_extractor = build_feature_extractor()"
      ]
    },
    {
      "cell_type": "code",
      "execution_count": null,
      "id": "c747b842",
      "metadata": {
        "id": "c747b842"
      },
      "outputs": [],
      "source": [
        "# data_dir_train = 'C:/Users/yzmod/Downloads/OneDrive_1_12-6-2022/03/03/train'\n",
        "# data_dir_test = 'C:/Users/yzmod/Downloads/OneDrive_1_12-6-2022/03/03/test'"
      ]
    },
    {
      "cell_type": "code",
      "source": [
        "# path1 = \"/content/drive/MyDrive/01/train\"\n",
        "# path2 = \"/content/drive/MyDrive/02/train\"\n"
      ],
      "metadata": {
        "id": "ZdKk5SA7dRjF"
      },
      "id": "ZdKk5SA7dRjF",
      "execution_count": null,
      "outputs": []
    },
    {
      "cell_type": "code",
      "execution_count": null,
      "id": "3dcc6777",
      "metadata": {
        "id": "3dcc6777"
      },
      "outputs": [],
      "source": [
        "# def prepare_all_samples(root_dir):\n",
        "    \n",
        "#     allSamplesFeatures = []\n",
        "#     labels = np.array([])\n",
        "#     cv_img = []\n",
        "    \n",
        "#     for class_folder in glob.glob(root_dir + \"/*\"):\n",
        "#         class_label = int(\"0127\")\n",
        "#         for folder in glob.glob(class_folder + \"/*\"):\n",
        "#             for img in glob.glob(folder + \"/*.jpg\"):\n",
        "#                 n = cv2.imread(img)\n",
        "#                 cv_img.append(n)\n",
        "#             samplesFeatures = feature_extractor.predict(np.array(cv_img), verbose=0)\n",
        "#             labels = np.append(labels, class_label)\n",
        "#             cv_img = []\n",
        "#             allSamplesFeatures.append(samplesFeatures.squeeze())\n",
        "\n",
        "#     return np.array(allSamplesFeatures), labels"
      ]
    },
    {
      "cell_type": "code",
      "source": [
        "# def prepare_all_samples1(root_dir):\n",
        "    \n",
        "#     allSamplesFeatures = []\n",
        "#     labels = np.array([])\n",
        "#     cv_img = []\n",
        "    \n",
        "#     for class_folder in glob.glob(root_dir + \"/*\"):\n",
        "#       class_label = int(\"0160\")\n",
        "#         for folder in glob.glob(class_folder + \"/*\"):\n",
        "#             for img in glob.glob(folder + \"/*.jpg\"):\n",
        "#                 n = cv2.imread(img)\n",
        "#                 cv_img.append(n)\n",
        "#             samplesFeatures = feature_extractor.predict(np.array(cv_img), verbose=0)\n",
        "#             labels = np.append(labels, class_label)\n",
        "#             cv_img = []\n",
        "#             allSamplesFeatures.append(samplesFeatures.squeeze())\n",
        "\n",
        "#     return np.array(allSamplesFeatures), labels"
      ],
      "metadata": {
        "id": "PZakJQibEaVq"
      },
      "id": "PZakJQibEaVq",
      "execution_count": null,
      "outputs": []
    },
    {
      "cell_type": "code",
      "execution_count": null,
      "id": "47f73206",
      "metadata": {
        "id": "47f73206"
      },
      "outputs": [],
      "source": [
        "#signer01_0127, signer01_0127_label = prepare_all_samples(path1)"
      ]
    },
    {
      "cell_type": "code",
      "source": [
        "x = signer01_0127[0][14]\n",
        "x.shape"
      ],
      "metadata": {
        "colab": {
          "base_uri": "https://localhost:8080/"
        },
        "id": "WmdlY7QWNpsP",
        "outputId": "73eb820a-e05f-4810-902c-129b2ff16b24"
      },
      "id": "WmdlY7QWNpsP",
      "execution_count": null,
      "outputs": [
        {
          "output_type": "execute_result",
          "data": {
            "text/plain": [
              "(2048,)"
            ]
          },
          "metadata": {},
          "execution_count": 50
        }
      ]
    },
    {
      "cell_type": "code",
      "source": [],
      "metadata": {
        "colab": {
          "base_uri": "https://localhost:8080/",
          "height": 187
        },
        "id": "wSp9MFZXXbh7",
        "outputId": "9c2d6e25-3270-4abb-8962-bafb3e746c69"
      },
      "id": "wSp9MFZXXbh7",
      "execution_count": null,
      "outputs": [
        {
          "output_type": "error",
          "ename": "AttributeError",
          "evalue": "ignored",
          "traceback": [
            "\u001b[0;31m---------------------------------------------------------------------------\u001b[0m",
            "\u001b[0;31mAttributeError\u001b[0m                            Traceback (most recent call last)",
            "\u001b[0;32m<ipython-input-63-03f7a8f53006>\u001b[0m in \u001b[0;36m<module>\u001b[0;34m\u001b[0m\n\u001b[1;32m      1\u001b[0m \u001b[0marr\u001b[0m \u001b[0;34m=\u001b[0m \u001b[0mlist\u001b[0m\u001b[0;34m(\u001b[0m\u001b[0msigner01_0127\u001b[0m\u001b[0;34m)\u001b[0m\u001b[0;34m\u001b[0m\u001b[0;34m\u001b[0m\u001b[0m\n\u001b[0;32m----> 2\u001b[0;31m \u001b[0marr\u001b[0m \u001b[0;34m=\u001b[0m \u001b[0marr\u001b[0m\u001b[0;34m[\u001b[0m\u001b[0;36m0\u001b[0m\u001b[0;34m]\u001b[0m\u001b[0;34m[\u001b[0m\u001b[0;36m14\u001b[0m\u001b[0;34m]\u001b[0m\u001b[0;34m.\u001b[0m\u001b[0mappend\u001b[0m\u001b[0;34m(\u001b[0m\u001b[0mx\u001b[0m\u001b[0;34m)\u001b[0m\u001b[0;34m\u001b[0m\u001b[0;34m\u001b[0m\u001b[0m\n\u001b[0m",
            "\u001b[0;31mAttributeError\u001b[0m: 'numpy.ndarray' object has no attribute 'append'"
          ]
        }
      ]
    },
    {
      "cell_type": "code",
      "source": [
        "#signer01_0127=np.stack(list(signer01_0127))\n",
        "#signer01_0127=signer01_0127.reshape((15,2048))\n",
        "\n",
        "#signer01_0127.shape"
      ],
      "metadata": {
        "colab": {
          "base_uri": "https://localhost:8080/"
        },
        "id": "SBhQW5JTXETA",
        "outputId": "b348869e-9c91-4c02-a032-7cc19666d0f5"
      },
      "id": "SBhQW5JTXETA",
      "execution_count": null,
      "outputs": [
        {
          "output_type": "execute_result",
          "data": {
            "text/plain": [
              "(15, 2048)"
            ]
          },
          "metadata": {},
          "execution_count": 67
        }
      ]
    },
    {
      "cell_type": "code",
      "source": [
        "#signer01_0127 = np.vstack([signer01_0127,x])\n"
      ],
      "metadata": {
        "id": "buXGP32VaVOF"
      },
      "id": "buXGP32VaVOF",
      "execution_count": null,
      "outputs": []
    },
    {
      "cell_type": "code",
      "source": [
        "#signer01_0127.shape"
      ],
      "metadata": {
        "colab": {
          "base_uri": "https://localhost:8080/"
        },
        "id": "PSdKoc00a2Er",
        "outputId": "a8ffe72c-6251-4f80-98ab-e6804d837125"
      },
      "id": "PSdKoc00a2Er",
      "execution_count": null,
      "outputs": [
        {
          "output_type": "execute_result",
          "data": {
            "text/plain": [
              "(18, 2048)"
            ]
          },
          "metadata": {},
          "execution_count": 73
        }
      ]
    },
    {
      "cell_type": "code",
      "source": [
        "#np.save('signer01_0127_numpy.npy',signer01_0127)\n",
        "#np.save('signer01_0127_label_numpy.npy',signer01_0127_label)"
      ],
      "metadata": {
        "id": "Glg_kWl3bEY6"
      },
      "id": "Glg_kWl3bEY6",
      "execution_count": null,
      "outputs": []
    },
    {
      "cell_type": "code",
      "source": [
        "#signer02_0160, signer02_0160_label = prepare_all_samples1(path2)"
      ],
      "metadata": {
        "id": "wfccA_Ek6Az1"
      },
      "id": "wfccA_Ek6Az1",
      "execution_count": null,
      "outputs": []
    },
    {
      "cell_type": "code",
      "source": [
        "#x = signer02_0160[9]\n",
        "#x.shape"
      ],
      "metadata": {
        "colab": {
          "base_uri": "https://localhost:8080/"
        },
        "id": "yZ-aGuzpce6w",
        "outputId": "a44f938f-a70a-4f57-cd70-60d800175b5d"
      },
      "id": "yZ-aGuzpce6w",
      "execution_count": null,
      "outputs": [
        {
          "output_type": "execute_result",
          "data": {
            "text/plain": [
              "(2048,)"
            ]
          },
          "metadata": {},
          "execution_count": 88
        }
      ]
    },
    {
      "cell_type": "code",
      "source": [
        "#signer02_0160 = np.stack(list(signer02_0160))\n",
        "#signer02_0160 = signer02_0160.reshape((10,2048))\n",
        "#print(signer02_0160.shape)\n",
        "#print(signer02_0160_label)"
      ],
      "metadata": {
        "colab": {
          "base_uri": "https://localhost:8080/"
        },
        "id": "lrYYIj1lcy_p",
        "outputId": "ad06d276-751b-4002-8ff1-00622b0cd692"
      },
      "id": "lrYYIj1lcy_p",
      "execution_count": null,
      "outputs": [
        {
          "output_type": "stream",
          "name": "stdout",
          "text": [
            "(10, 2048)\n",
            "[160.]\n"
          ]
        }
      ]
    },
    {
      "cell_type": "code",
      "source": [
        "#for i in range(7):\n",
        "  #signer02_0160 =np.vstack([signer02_0160,x])\n",
        "#signer02_0160.shape\n"
      ],
      "metadata": {
        "colab": {
          "base_uri": "https://localhost:8080/"
        },
        "id": "rzMwOCj9daWh",
        "outputId": "4c47441e-4b08-488f-8a71-7e217ef25be4"
      },
      "id": "rzMwOCj9daWh",
      "execution_count": null,
      "outputs": [
        {
          "output_type": "execute_result",
          "data": {
            "text/plain": [
              "(18, 2048)"
            ]
          },
          "metadata": {},
          "execution_count": 91
        }
      ]
    },
    {
      "cell_type": "code",
      "source": [
        "#np.save('signer02_0160_numpy.npy',signer02_0160)\n",
        "#np.save('signer02_0160_label_numpy.npy',signer02_0160_label)"
      ],
      "metadata": {
        "id": "hd3vBOjjexoC"
      },
      "id": "hd3vBOjjexoC",
      "execution_count": null,
      "outputs": []
    },
    {
      "cell_type": "markdown",
      "id": "d1f44737",
      "metadata": {
        "id": "d1f44737"
      },
      "source": [
        "**After checking there is 1 sample in train set of 01, 02 signer that have different sequence length so we decided to drop it and the loop below drops that sample**"
      ]
    },
    {
      "cell_type": "code",
      "execution_count": null,
      "id": "73e26df4",
      "metadata": {
        "id": "73e26df4"
      },
      "outputs": [],
      "source": [
        "# for i in range(len(train_data)):\n",
        "#     if train_data[i].shape != (18,2048):\n",
        "#         print(train_data[i].shape)\n",
        "#         print(i)\n",
        "#         train_data = np.delete(train_data, i)\n",
        "#         train_labels = np.delete(train_labels, i)"
      ]
    },
    {
      "cell_type": "markdown",
      "id": "1c753526",
      "metadata": {
        "id": "1c753526"
      },
      "source": [
        "**To resolve the shape from ragged to desired shape we need do the method below**"
      ]
    },
    {
      "cell_type": "code",
      "execution_count": null,
      "id": "10ed6ab0",
      "metadata": {
        "id": "10ed6ab0"
      },
      "outputs": [],
      "source": [
        "# train_data = np.stack(list(train_data))"
      ]
    },
    {
      "cell_type": "code",
      "execution_count": null,
      "id": "5d036377",
      "metadata": {
        "id": "5d036377"
      },
      "outputs": [],
      "source": [
        "# test_data, test_labels = prepare_all_samples(data_dir_test)"
      ]
    },
    {
      "cell_type": "markdown",
      "id": "a2b21cf6",
      "metadata": {
        "id": "a2b21cf6"
      },
      "source": [
        "## Saving extracted values"
      ]
    },
    {
      "cell_type": "code",
      "execution_count": null,
      "id": "29ae015c",
      "metadata": {
        "id": "29ae015c"
      },
      "outputs": [],
      "source": [
        "# np.save('train_data_03_numpy.npy', train_data)\n",
        "\n",
        "# np.save('train_labels_03_numpy.npy', train_labels)"
      ]
    },
    {
      "cell_type": "code",
      "execution_count": null,
      "id": "01d2f1ad",
      "metadata": {
        "id": "01d2f1ad"
      },
      "outputs": [],
      "source": [
        "# np.save('test_data_03_numpy.npy', test_data)\n",
        "\n",
        "# np.save('test_labels_03_numpy.npy', test_labels)"
      ]
    },
    {
      "cell_type": "markdown",
      "id": "2e8657a8",
      "metadata": {
        "id": "2e8657a8"
      },
      "source": [
        "## Loading extracted values"
      ]
    },
    {
      "cell_type": "markdown",
      "id": "a29fb685",
      "metadata": {
        "id": "a29fb685"
      },
      "source": [
        "### 01 Signer"
      ]
    },
    {
      "cell_type": "code",
      "execution_count": null,
      "id": "98613144",
      "metadata": {
        "id": "98613144",
        "outputId": "8464575c-52bb-4be9-eb70-c6e8c2fe381b"
      },
      "outputs": [
        {
          "name": "stdout",
          "output_type": "stream",
          "text": [
            "shape of train data:  (3505, 18, 2048)\n",
            "shape of train labels:  (3505,)\n"
          ]
        }
      ],
      "source": [
        "# retrieving train data from file.\n",
        "\n",
        "train_data01 = np.load('train_data_01_numpy.npy')\n",
        "print(\"shape of train data: \", train_data01.shape)\n",
        "\n",
        "# retrieving labels from file.\n",
        "\n",
        "train_labels_01 = np.load('train_labels_01_numpy.npy')\n",
        "print(\"shape of train labels: \", train_labels_01.shape)"
      ]
    },
    {
      "cell_type": "code",
      "execution_count": null,
      "id": "400c2089",
      "metadata": {
        "id": "400c2089",
        "outputId": "e9af8a4b-d138-4448-a22b-33338cf31e80"
      },
      "outputs": [
        {
          "name": "stdout",
          "output_type": "stream",
          "text": [
            "shape of test data:  (800, 18, 2048)\n",
            "shape of test labels:  (800,)\n"
          ]
        }
      ],
      "source": [
        "# retrieving test data from file.\n",
        "test_data01 = np.load('test_data_01_numpy.npy')\n",
        "print(\"shape of test data: \", test_data01.shape)\n",
        "\n",
        "# retrieving labels from file.\n",
        "\n",
        "test_labels_01 = np.load('test_labels_01_numpy.npy')\n",
        "print(\"shape of test labels: \", test_labels_01.shape)"
      ]
    },
    {
      "cell_type": "markdown",
      "id": "353c9de1",
      "metadata": {
        "id": "353c9de1"
      },
      "source": [
        "### 02 Signer"
      ]
    },
    {
      "cell_type": "code",
      "execution_count": null,
      "id": "a7401ca8",
      "metadata": {
        "id": "a7401ca8",
        "outputId": "c16f8a17-03e6-4ece-a553-2dce69a3e212"
      },
      "outputs": [
        {
          "name": "stdout",
          "output_type": "stream",
          "text": [
            "shape of train data:  (3565, 18, 2048)\n",
            "shape of train labels:  (3565,)\n"
          ]
        }
      ],
      "source": [
        "# retrieving train data from file.\n",
        "\n",
        "train_data02 = np.load('train_data_02_numpy.npy')\n",
        "print(\"shape of train data: \", train_data02.shape)\n",
        "\n",
        "# retrieving labels from file.\n",
        "\n",
        "train_labels_02 = np.load('train_labels_02_numpy.npy')\n",
        "print(\"shape of train labels: \", train_labels_02.shape)"
      ]
    },
    {
      "cell_type": "code",
      "execution_count": null,
      "id": "5f37e7ff",
      "metadata": {
        "id": "5f37e7ff",
        "outputId": "ebd41260-6b2f-4275-c6b1-b7e1afff5e22"
      },
      "outputs": [
        {
          "name": "stdout",
          "output_type": "stream",
          "text": [
            "shape of test data:  (800, 18, 2048)\n",
            "shape of test labels:  (800,)\n"
          ]
        }
      ],
      "source": [
        "# retrieving test data from file.\n",
        "test_data02 = np.load('test_data_02_numpy.npy')\n",
        "print(\"shape of test data: \", test_data02.shape)\n",
        "\n",
        "# retrieving labels from file.\n",
        "\n",
        "test_labels_02 = np.load('test_labels_02_numpy.npy')\n",
        "print(\"shape of test labels: \", test_labels_02.shape)"
      ]
    },
    {
      "cell_type": "markdown",
      "id": "388b7889",
      "metadata": {
        "id": "388b7889"
      },
      "source": [
        "### 03 Signer"
      ]
    },
    {
      "cell_type": "code",
      "execution_count": null,
      "id": "6276b34d",
      "metadata": {
        "id": "6276b34d",
        "outputId": "359f144c-b65e-4269-d291-aeff6ae8f9f3"
      },
      "outputs": [
        {
          "name": "stdout",
          "output_type": "stream",
          "text": [
            "shape of train data:  (3546, 18, 2048)\n",
            "shape of train labels:  (3546,)\n"
          ]
        }
      ],
      "source": [
        "# retrieving train data from file.\n",
        "\n",
        "train_data03 = np.load('train_data_03_numpy.npy')\n",
        "print(\"shape of train data: \", train_data03.shape)\n",
        "\n",
        "# retrieving labels from file.\n",
        "\n",
        "train_labels_03 = np.load('train_labels_03_numpy.npy')\n",
        "print(\"shape of train labels: \", train_labels_03.shape)"
      ]
    },
    {
      "cell_type": "code",
      "execution_count": null,
      "id": "059b21be",
      "metadata": {
        "id": "059b21be",
        "outputId": "8ebe77c0-cacc-4ba7-bfcb-def6ee7039b5"
      },
      "outputs": [
        {
          "name": "stdout",
          "output_type": "stream",
          "text": [
            "shape of test data:  (800, 18, 2048)\n",
            "shape of test labels:  (800,)\n"
          ]
        }
      ],
      "source": [
        "# retrieving test data from file.\n",
        "test_data03 = np.load('test_data_03_numpy.npy')\n",
        "print(\"shape of test data: \", test_data03.shape)\n",
        "\n",
        "# retrieving labels from file.\n",
        "\n",
        "test_labels_03 = np.load('test_labels_03_numpy.npy')\n",
        "print(\"shape of test labels: \", test_labels_03.shape)"
      ]
    },
    {
      "cell_type": "code",
      "execution_count": null,
      "id": "e64b2fb0",
      "metadata": {
        "id": "e64b2fb0",
        "outputId": "526286e0-1990-4dc6-93bb-f62665f3be28"
      },
      "outputs": [
        {
          "data": {
            "text/html": [
              "<div>\n",
              "<style scoped>\n",
              "    .dataframe tbody tr th:only-of-type {\n",
              "        vertical-align: middle;\n",
              "    }\n",
              "\n",
              "    .dataframe tbody tr th {\n",
              "        vertical-align: top;\n",
              "    }\n",
              "\n",
              "    .dataframe thead th {\n",
              "        text-align: right;\n",
              "    }\n",
              "</style>\n",
              "<table border=\"1\" class=\"dataframe\">\n",
              "  <thead>\n",
              "    <tr style=\"text-align: right;\">\n",
              "      <th></th>\n",
              "      <th>SignID</th>\n",
              "      <th>Sign-Arabic</th>\n",
              "      <th>Sign-English</th>\n",
              "    </tr>\n",
              "  </thead>\n",
              "  <tbody>\n",
              "    <tr>\n",
              "      <th>0</th>\n",
              "      <td>71</td>\n",
              "      <td>هيكل عظمي</td>\n",
              "      <td>Skeleton</td>\n",
              "    </tr>\n",
              "    <tr>\n",
              "      <th>1</th>\n",
              "      <td>72</td>\n",
              "      <td>جمجة</td>\n",
              "      <td>skull</td>\n",
              "    </tr>\n",
              "    <tr>\n",
              "      <th>2</th>\n",
              "      <td>73</td>\n",
              "      <td>عمود فقري</td>\n",
              "      <td>Backbone</td>\n",
              "    </tr>\n",
              "    <tr>\n",
              "      <th>3</th>\n",
              "      <td>74</td>\n",
              "      <td>قفص صدري</td>\n",
              "      <td>Chest</td>\n",
              "    </tr>\n",
              "    <tr>\n",
              "      <th>4</th>\n",
              "      <td>75</td>\n",
              "      <td>جهاز تنفسي</td>\n",
              "      <td>Respiratory device</td>\n",
              "    </tr>\n",
              "  </tbody>\n",
              "</table>\n",
              "</div>"
            ],
            "text/plain": [
              "   SignID Sign-Arabic        Sign-English\n",
              "0      71   هيكل عظمي            Skeleton\n",
              "1      72        جمجة               skull\n",
              "2      73   عمود فقري            Backbone\n",
              "3      74    قفص صدري               Chest\n",
              "4      75  جهاز تنفسي  Respiratory device"
            ]
          },
          "metadata": {},
          "output_type": "display_data"
        }
      ],
      "source": [
        "import pandas as pd\n",
        "\n",
        "df = pd.read_excel(\"C:/Users/yzmod/Downloads/KARSL-100_Labels.xlsx\")\n",
        "\n",
        "display(df.head())"
      ]
    },
    {
      "cell_type": "code",
      "execution_count": null,
      "id": "de023631",
      "metadata": {
        "id": "de023631",
        "outputId": "3f6e5e6e-dbe0-4495-e1bd-e5c58e047a1f"
      },
      "outputs": [
        {
          "name": "stdout",
          "output_type": "stream",
          "text": [
            "['Aids', 'Appendix', 'Backbone', 'Cerebral paralysis', 'Chest', 'Face', 'Heart failure', 'Ins and Outs', 'Large intestine', 'Loss of hair', 'Respiratory device', 'Skeleton', 'Small intestine', 'Trachea', 'acupuncture', 'addiction', 'adhesive tape', 'allergy', 'analysis', 'analysis laboratory', 'anesthetist', 'bacterium', 'blood analysis', 'blood pressure', 'burning', 'cancer', 'capsule', 'close', 'cold', 'colic', 'constipation', 'descend', 'diabetes', 'diarrhea', 'digestive system', 'drink', 'dropper', \"drug's\", 'eat', 'epidemic', 'fever', 'first aid', 'five senses', 'gauze', 'headache', 'healthy', 'hear', 'hearing hindrance', 'heart', 'heart attack', 'hemiplegia', 'hindrance', 'hospital', 'immunity', 'infection', 'inflammation', 'inhale', 'inoculation', 'itch', 'laser ray', 'liquid medicine', 'liver', 'lungs', 'medicine', 'mentality hindrance', 'microbe', 'mongoloid', 'monthly circulation', 'muscle', 'nerve', 'nervous system', 'ointment', 'oneness', 'open', 'pain', 'pancreas', 'pharmacy', 'pharynx', 'physical disability', 'physical examination', 'pollination', 'pulse', 'ray photo', 'rise', 'sick', 'sight examination', 'silence', 'skull', 'sleep', 'sphygmometroscope', 'spread', 'stethoscope', 'surgery', 'swelling', 'thermometer', 'tissue', 'virus', 'visual impairment', 'wake up', 'wound']\n"
          ]
        }
      ],
      "source": [
        "label_processor = keras.layers.StringLookup(\n",
        "    num_oov_indices=0, vocabulary=np.unique(df[\"Sign-English\"])\n",
        ")\n",
        "print(label_processor.get_vocabulary())\n",
        "class_vocab = label_processor.get_vocabulary()"
      ]
    },
    {
      "cell_type": "code",
      "execution_count": null,
      "id": "fcdad34c",
      "metadata": {
        "colab": {
          "base_uri": "https://localhost:8080/",
          "height": 240
        },
        "id": "fcdad34c",
        "outputId": "17ed5a76-3b27-4580-f1fb-6ef107beeeee"
      },
      "outputs": [
        {
          "output_type": "error",
          "ename": "NameError",
          "evalue": "ignored",
          "traceback": [
            "\u001b[0;31m---------------------------------------------------------------------------\u001b[0m",
            "\u001b[0;31mNameError\u001b[0m                                 Traceback (most recent call last)",
            "\u001b[0;32m<ipython-input-1-7e4bf41467e2>\u001b[0m in \u001b[0;36m<module>\u001b[0;34m\u001b[0m\n\u001b[0;32m----> 1\u001b[0;31m \u001b[0mtmp\u001b[0m \u001b[0;34m=\u001b[0m \u001b[0mzip\u001b[0m\u001b[0;34m(\u001b[0m\u001b[0mdf\u001b[0m\u001b[0;34m[\u001b[0m\u001b[0;34m'SignID'\u001b[0m\u001b[0;34m]\u001b[0m\u001b[0;34m,\u001b[0m \u001b[0mdf\u001b[0m\u001b[0;34m[\u001b[0m\u001b[0;34m'Sign-English'\u001b[0m\u001b[0;34m]\u001b[0m\u001b[0;34m)\u001b[0m\u001b[0;34m\u001b[0m\u001b[0;34m\u001b[0m\u001b[0m\n\u001b[0m\u001b[1;32m      2\u001b[0m \u001b[0mmapping\u001b[0m \u001b[0;34m=\u001b[0m \u001b[0mdict\u001b[0m\u001b[0;34m(\u001b[0m\u001b[0;34m)\u001b[0m\u001b[0;34m\u001b[0m\u001b[0;34m\u001b[0m\u001b[0m\n\u001b[1;32m      3\u001b[0m \u001b[0;32mfor\u001b[0m \u001b[0mi\u001b[0m\u001b[0;34m,\u001b[0m \u001b[0mj\u001b[0m \u001b[0;32min\u001b[0m \u001b[0mtmp\u001b[0m\u001b[0;34m:\u001b[0m\u001b[0;34m\u001b[0m\u001b[0;34m\u001b[0m\u001b[0m\n\u001b[1;32m      4\u001b[0m     \u001b[0mmapping\u001b[0m\u001b[0;34m[\u001b[0m\u001b[0mi\u001b[0m\u001b[0;34m]\u001b[0m \u001b[0;34m=\u001b[0m \u001b[0mj\u001b[0m\u001b[0;34m\u001b[0m\u001b[0;34m\u001b[0m\u001b[0m\n\u001b[1;32m      5\u001b[0m \u001b[0;34m\u001b[0m\u001b[0m\n",
            "\u001b[0;31mNameError\u001b[0m: name 'df' is not defined"
          ]
        }
      ],
      "source": [
        "tmp = zip(df['SignID'], df['Sign-English'])\n",
        "mapping = dict()\n",
        "for i, j in tmp:\n",
        "    mapping[i] = j\n",
        "\n",
        "def map_labels(labels):\n",
        "    mapped_labels = []\n",
        "    for i in range(len(labels)):\n",
        "        mapped_labels.append(mapping[labels[i]])\n",
        "    return np.array(mapped_labels)"
      ]
    },
    {
      "cell_type": "markdown",
      "id": "f86ca5d4",
      "metadata": {
        "id": "f86ca5d4"
      },
      "source": [
        "## Split train data"
      ]
    },
    {
      "cell_type": "markdown",
      "id": "c3c0ff2c",
      "metadata": {
        "id": "c3c0ff2c"
      },
      "source": [
        "Need labels values between range [0, 100)"
      ]
    },
    {
      "cell_type": "code",
      "execution_count": null,
      "id": "8d4beb3e",
      "metadata": {
        "id": "8d4beb3e"
      },
      "outputs": [],
      "source": [
        "train_labels_01 = train_labels_01 - 71\n",
        "test_labels_01 = test_labels_01 - 71\n",
        "train_labels_02 = train_labels_02 - 71\n",
        "test_labels_02 = test_labels_02 - 71\n",
        "train_labels_03 = train_labels_03 - 71\n",
        "test_labels_03 = test_labels_03 - 71"
      ]
    },
    {
      "cell_type": "code",
      "execution_count": null,
      "id": "47cae055",
      "metadata": {
        "id": "47cae055"
      },
      "outputs": [],
      "source": [
        "from sklearn.model_selection import train_test_split\n",
        "\n",
        "train_data01, val_data01, train_labels_01, val_labels_01 = train_test_split(train_data01, train_labels_01, test_size=0.3, random_state=4, stratify=train_labels_01)\n",
        "train_data02, val_data02, train_labels_02, val_labels_02 = train_test_split(train_data02, train_labels_02, test_size=0.3, random_state=4, stratify=train_labels_02)\n",
        "train_data03, val_data03, train_labels_03, val_labels_03 = train_test_split(train_data03, train_labels_03, test_size=0.3, random_state=4, stratify=train_labels_03)"
      ]
    },
    {
      "cell_type": "markdown",
      "id": "b8eeb374",
      "metadata": {
        "id": "b8eeb374"
      },
      "source": [
        "# Training Dependent models"
      ]
    },
    {
      "cell_type": "code",
      "execution_count": null,
      "id": "f5165a67",
      "metadata": {
        "id": "f5165a67"
      },
      "outputs": [],
      "source": [
        "from sklearn.metrics import f1_score, classification_report, confusion_matrix, matthews_corrcoef\n",
        "from imblearn.metrics import geometric_mean_score"
      ]
    },
    {
      "cell_type": "markdown",
      "id": "b4c96cde",
      "metadata": {
        "id": "b4c96cde"
      },
      "source": [
        "## Signer 1 Dependent"
      ]
    },
    {
      "cell_type": "code",
      "execution_count": null,
      "id": "32f2fdf9",
      "metadata": {
        "id": "32f2fdf9"
      },
      "outputs": [],
      "source": [
        "frame_features_input = keras.Input((MAX_SEQ_LENGTH, NUM_FEATURES))\n",
        "\n",
        "filepath = \"C:/Users/yzmod/Downloads/Model/Dep01\"\n",
        "x = keras.layers.LSTM(64, return_sequences=True)(frame_features_input)\n",
        "x = keras.layers.LSTM(64)(x)\n",
        "x = keras.layers.Dropout(0.2)(x)\n",
        "x = keras.layers.Dense(256, kernel_regularizer=keras.regularizers.l2(0.001), activation=\"relu\")(x)\n",
        "output = keras.layers.Dense(len(class_vocab), activation=\"softmax\")(x)\n",
        "\n",
        "seq_model = keras.Model(frame_features_input, output)\n",
        "\n",
        "seq_model.compile(loss=\"sparse_categorical_crossentropy\", \n",
        "                  optimizer=keras.optimizers.Adam(learning_rate = 1e-4), metrics=[\"accuracy\"])\n",
        "\n",
        "checkpoint = keras.callbacks.ModelCheckpoint(filepath, save_weights_only=True, save_best_only=True, verbose=1)\n",
        "earlyStopper = keras.callbacks.EarlyStopping(monitor='val_loss', patience=5)       "
      ]
    },
    {
      "cell_type": "code",
      "execution_count": null,
      "id": "df637a0e",
      "metadata": {
        "id": "df637a0e",
        "outputId": "a3bad56a-88a9-4e3f-b50e-2fd546bae3b9"
      },
      "outputs": [
        {
          "name": "stdout",
          "output_type": "stream",
          "text": [
            "Epoch 1/15\n",
            "77/77 [==============================] - ETA: 0s - loss: 4.6465 - accuracy: 0.0416\n",
            "Epoch 1: val_loss improved from inf to 4.55682, saving model to C:/Users/yzmod/Downloads/Model\\Dep01\n",
            "77/77 [==============================] - 16s 118ms/step - loss: 4.6465 - accuracy: 0.0416 - val_loss: 4.5568 - val_accuracy: 0.1150\n",
            "Epoch 2/15\n",
            "77/77 [==============================] - ETA: 0s - loss: 4.4535 - accuracy: 0.1447\n",
            "Epoch 2: val_loss improved from 4.55682 to 4.29313, saving model to C:/Users/yzmod/Downloads/Model\\Dep01\n",
            "77/77 [==============================] - 7s 91ms/step - loss: 4.4535 - accuracy: 0.1447 - val_loss: 4.2931 - val_accuracy: 0.2662\n",
            "Epoch 3/15\n",
            "77/77 [==============================] - ETA: 0s - loss: 4.1373 - accuracy: 0.2638\n",
            "Epoch 3: val_loss improved from 4.29313 to 3.92993, saving model to C:/Users/yzmod/Downloads/Model\\Dep01\n",
            "77/77 [==============================] - 7s 92ms/step - loss: 4.1373 - accuracy: 0.2638 - val_loss: 3.9299 - val_accuracy: 0.2757\n",
            "Epoch 4/15\n",
            "77/77 [==============================] - ETA: 0s - loss: 3.6825 - accuracy: 0.3526\n",
            "Epoch 4: val_loss improved from 3.92993 to 3.40054, saving model to C:/Users/yzmod/Downloads/Model\\Dep01\n",
            "77/77 [==============================] - 7s 91ms/step - loss: 3.6825 - accuracy: 0.3526 - val_loss: 3.4005 - val_accuracy: 0.4468\n",
            "Epoch 5/15\n",
            "77/77 [==============================] - ETA: 0s - loss: 3.1370 - accuracy: 0.4839\n",
            "Epoch 5: val_loss improved from 3.40054 to 2.82247, saving model to C:/Users/yzmod/Downloads/Model\\Dep01\n",
            "77/77 [==============================] - 7s 92ms/step - loss: 3.1370 - accuracy: 0.4839 - val_loss: 2.8225 - val_accuracy: 0.5922\n",
            "Epoch 6/15\n",
            "77/77 [==============================] - ETA: 0s - loss: 2.6014 - accuracy: 0.6196\n",
            "Epoch 6: val_loss improved from 2.82247 to 2.26885, saving model to C:/Users/yzmod/Downloads/Model\\Dep01\n",
            "77/77 [==============================] - 7s 90ms/step - loss: 2.6014 - accuracy: 0.6196 - val_loss: 2.2688 - val_accuracy: 0.7215\n",
            "Epoch 7/15\n",
            "77/77 [==============================] - ETA: 0s - loss: 2.1511 - accuracy: 0.7285\n",
            "Epoch 7: val_loss improved from 2.26885 to 1.91496, saving model to C:/Users/yzmod/Downloads/Model\\Dep01\n",
            "77/77 [==============================] - 7s 90ms/step - loss: 2.1511 - accuracy: 0.7285 - val_loss: 1.9150 - val_accuracy: 0.7861\n",
            "Epoch 8/15\n",
            "77/77 [==============================] - ETA: 0s - loss: 1.7236 - accuracy: 0.8300\n",
            "Epoch 8: val_loss improved from 1.91496 to 1.48789, saving model to C:/Users/yzmod/Downloads/Model\\Dep01\n",
            "77/77 [==============================] - 7s 90ms/step - loss: 1.7236 - accuracy: 0.8300 - val_loss: 1.4879 - val_accuracy: 0.8907\n",
            "Epoch 9/15\n",
            "77/77 [==============================] - ETA: 0s - loss: 1.4175 - accuracy: 0.8871\n",
            "Epoch 9: val_loss improved from 1.48789 to 1.24572, saving model to C:/Users/yzmod/Downloads/Model\\Dep01\n",
            "77/77 [==============================] - 7s 89ms/step - loss: 1.4175 - accuracy: 0.8871 - val_loss: 1.2457 - val_accuracy: 0.9144\n",
            "Epoch 10/15\n",
            "77/77 [==============================] - ETA: 0s - loss: 1.1898 - accuracy: 0.9152\n",
            "Epoch 10: val_loss improved from 1.24572 to 1.00657, saving model to C:/Users/yzmod/Downloads/Model\\Dep01\n",
            "77/77 [==============================] - 7s 89ms/step - loss: 1.1898 - accuracy: 0.9152 - val_loss: 1.0066 - val_accuracy: 0.9468\n",
            "Epoch 11/15\n",
            "77/77 [==============================] - ETA: 0s - loss: 0.9824 - accuracy: 0.9384\n",
            "Epoch 11: val_loss improved from 1.00657 to 0.85711, saving model to C:/Users/yzmod/Downloads/Model\\Dep01\n",
            "77/77 [==============================] - 7s 90ms/step - loss: 0.9824 - accuracy: 0.9384 - val_loss: 0.8571 - val_accuracy: 0.9515\n",
            "Epoch 12/15\n",
            "77/77 [==============================] - ETA: 0s - loss: 0.8367 - accuracy: 0.9486\n",
            "Epoch 12: val_loss improved from 0.85711 to 0.71081, saving model to C:/Users/yzmod/Downloads/Model\\Dep01\n",
            "77/77 [==============================] - 7s 88ms/step - loss: 0.8367 - accuracy: 0.9486 - val_loss: 0.7108 - val_accuracy: 0.9648\n",
            "Epoch 13/15\n",
            "77/77 [==============================] - ETA: 0s - loss: 0.7103 - accuracy: 0.9715\n",
            "Epoch 13: val_loss improved from 0.71081 to 0.66988, saving model to C:/Users/yzmod/Downloads/Model\\Dep01\n",
            "77/77 [==============================] - 7s 91ms/step - loss: 0.7103 - accuracy: 0.9715 - val_loss: 0.6699 - val_accuracy: 0.9620\n",
            "Epoch 14/15\n",
            "77/77 [==============================] - ETA: 0s - loss: 0.6315 - accuracy: 0.9780\n",
            "Epoch 14: val_loss improved from 0.66988 to 0.55524, saving model to C:/Users/yzmod/Downloads/Model\\Dep01\n",
            "77/77 [==============================] - 7s 90ms/step - loss: 0.6315 - accuracy: 0.9780 - val_loss: 0.5552 - val_accuracy: 0.9705\n",
            "Epoch 15/15\n",
            "77/77 [==============================] - ETA: 0s - loss: 0.5488 - accuracy: 0.9784\n",
            "Epoch 15: val_loss improved from 0.55524 to 0.47866, saving model to C:/Users/yzmod/Downloads/Model\\Dep01\n",
            "77/77 [==============================] - 7s 94ms/step - loss: 0.5488 - accuracy: 0.9784 - val_loss: 0.4787 - val_accuracy: 0.9762\n"
          ]
        }
      ],
      "source": [
        "# start the training\n",
        "history = seq_model.fit(\n",
        "    train_data01,\n",
        "    train_labels_01,\n",
        "    batch_size=32,\n",
        "    validation_data=(val_data01, val_labels_01),\n",
        "    epochs=15,\n",
        "    callbacks=[checkpoint, earlyStopper])"
      ]
    },
    {
      "cell_type": "code",
      "source": [
        "import matplotlib.pyplot as plt\n",
        "\n",
        "print(history.history.keys())\n",
        "#  \"Accuracy\"\n",
        "plt.plot(history.history['acc'])\n",
        "plt.plot(history.history['val_acc'])\n",
        "plt.title('model accuracy')\n",
        "plt.ylabel('accuracy')\n",
        "plt.xlabel('epoch')\n",
        "plt.legend(['train', 'validation'], loc='upper left')\n",
        "plt.show()\n",
        "# \"Loss\"\n",
        "plt.plot(history.history['loss'])\n",
        "plt.plot(history.history['val_loss'])\n",
        "plt.title('model loss')\n",
        "plt.ylabel('loss')\n",
        "plt.xlabel('epoch')\n",
        "plt.legend(['train', 'validation'], loc='upper left')\n",
        "plt.show()"
      ],
      "metadata": {
        "id": "wP_FwB3GMto-"
      },
      "id": "wP_FwB3GMto-",
      "execution_count": null,
      "outputs": []
    },
    {
      "cell_type": "code",
      "execution_count": null,
      "id": "a3532254",
      "metadata": {
        "id": "a3532254",
        "outputId": "ea847d9d-ce70-483f-a3e0-669712445dad"
      },
      "outputs": [
        {
          "name": "stdout",
          "output_type": "stream",
          "text": [
            "25/25 [==============================] - 1s 40ms/step - loss: 0.7840 - accuracy: 0.9262\n",
            "Test accuracy: 92.62%\n"
          ]
        }
      ],
      "source": [
        "# use the best model saved during training process for testing\n",
        "seq_model.load_weights(filepath)\n",
        "_, accuracy = seq_model.evaluate(test_data01, test_labels_01)\n",
        "\n",
        "print(f\"Test accuracy: {round(accuracy * 100, 2)}%\")"
      ]
    },
    {
      "cell_type": "code",
      "execution_count": null,
      "id": "453d4b98",
      "metadata": {
        "id": "453d4b98",
        "outputId": "cffdd6a5-b168-4158-87bd-b81b432e1a06"
      },
      "outputs": [
        {
          "name": "stdout",
          "output_type": "stream",
          "text": [
            "The f1 score is: 0.914\n",
            "The MCC score is: 0.926\n",
            "The GMean score is: 0.000\n",
            "                      precision    recall  f1-score   support\n",
            "\n",
            "            Skeleton       1.00      1.00      1.00         8\n",
            "               skull       1.00      1.00      1.00         8\n",
            "            Backbone       1.00      1.00      1.00         8\n",
            "               Chest       1.00      1.00      1.00         8\n",
            "  Respiratory device       1.00      1.00      1.00         8\n",
            "             Trachea       1.00      1.00      1.00         8\n",
            "               lungs       1.00      0.88      0.93         8\n",
            "        Ins and Outs       0.50      0.12      0.20         8\n",
            "    digestive system       1.00      1.00      1.00         8\n",
            "                Face       1.00      1.00      1.00         8\n",
            "             pharynx       1.00      1.00      1.00         8\n",
            "               liver       1.00      1.00      1.00         8\n",
            "            pancreas       0.89      1.00      0.94         8\n",
            "     Small intestine       1.00      1.00      1.00         8\n",
            "     Large intestine       0.67      1.00      0.80         8\n",
            "            Appendix       1.00      0.88      0.93         8\n",
            "      nervous system       1.00      1.00      1.00         8\n",
            "               heart       1.00      1.00      1.00         8\n",
            "         five senses       1.00      1.00      1.00         8\n",
            "              muscle       1.00      1.00      1.00         8\n",
            "              tissue       0.88      0.88      0.88         8\n",
            "            hospital       1.00      1.00      1.00         8\n",
            "           first aid       1.00      1.00      1.00         8\n",
            "               wound       1.00      1.00      1.00         8\n",
            "             burning       1.00      1.00      1.00         8\n",
            "         anesthetist       1.00      1.00      1.00         8\n",
            "             surgery       1.00      1.00      1.00         8\n",
            "               gauze       1.00      1.00      1.00         8\n",
            "       adhesive tape       0.89      1.00      0.94         8\n",
            "            pharmacy       1.00      1.00      1.00         8\n",
            "      blood analysis       1.00      0.88      0.93         8\n",
            "physical examination       1.00      1.00      1.00         8\n",
            "   sight examination       1.00      1.00      1.00         8\n",
            "         thermometer       1.00      1.00      1.00         8\n",
            "         stethoscope       1.00      1.00      1.00         8\n",
            "   sphygmometroscope       1.00      1.00      1.00         8\n",
            "               pulse       1.00      1.00      1.00         8\n",
            "            analysis       1.00      1.00      1.00         8\n",
            " analysis laboratory       1.00      1.00      1.00         8\n",
            "           ray photo       0.62      1.00      0.76         8\n",
            "        inflammation       1.00      1.00      1.00         8\n",
            "            swelling       1.00      1.00      1.00         8\n",
            "                cold       1.00      1.00      1.00         8\n",
            "           infection       1.00      1.00      1.00         8\n",
            "            headache       1.00      0.12      0.22         8\n",
            "                pain       0.50      0.50      0.50         8\n",
            "               fever       1.00      1.00      1.00         8\n",
            "            diarrhea       1.00      1.00      1.00         8\n",
            "        constipation       1.00      1.00      1.00         8\n",
            "               colic       0.00      0.00      0.00         8\n",
            "            diabetes       1.00      1.00      1.00         8\n",
            "        heart attack       1.00      1.00      1.00         8\n",
            "              cancer       0.73      1.00      0.84         8\n",
            "                Aids       0.89      1.00      0.94         8\n",
            "        Loss of hair       1.00      1.00      1.00         8\n",
            "       Heart failure       1.00      1.00      1.00         8\n",
            "          hemiplegia       1.00      1.00      1.00         8\n",
            "  Cerebral paralysis       1.00      1.00      1.00         8\n",
            "      blood pressure       1.00      1.00      1.00         8\n",
            "             allergy       1.00      1.00      1.00         8\n",
            "                itch       1.00      0.75      0.86         8\n",
            "            medicine       1.00      0.75      0.86         8\n",
            " monthly circulation       0.88      0.88      0.88         8\n",
            "                sick       1.00      1.00      1.00         8\n",
            "             capsule       1.00      1.00      1.00         8\n",
            "     liquid medicine       1.00      1.00      1.00         8\n",
            "            ointment       1.00      0.88      0.93         8\n",
            "             dropper       1.00      1.00      1.00         8\n",
            "         acupuncture       1.00      1.00      1.00         8\n",
            "         pollination       1.00      1.00      1.00         8\n",
            "         inoculation       1.00      1.00      1.00         8\n",
            "           laser ray       1.00      1.00      1.00         8\n",
            "              drug's       1.00      1.00      1.00         8\n",
            "           addiction       1.00      1.00      1.00         8\n",
            "             oneness       1.00      1.00      1.00         8\n",
            "           mongoloid       1.00      1.00      1.00         8\n",
            "           bacterium       0.89      1.00      0.94         8\n",
            "             microbe       0.89      1.00      0.94         8\n",
            "               virus       1.00      1.00      1.00         8\n",
            "              spread       1.00      1.00      1.00         8\n",
            "           hindrance       1.00      0.62      0.77         8\n",
            " mentality hindrance       0.64      0.88      0.74         8\n",
            " physical disability       1.00      1.00      1.00         8\n",
            "   visual impairment       1.00      1.00      1.00         8\n",
            "   hearing hindrance       1.00      1.00      1.00         8\n",
            "            epidemic       0.73      1.00      0.84         8\n",
            "            immunity       0.89      1.00      0.94         8\n",
            "               nerve       1.00      1.00      1.00         8\n",
            "             healthy       0.00      0.00      0.00         8\n",
            "                 eat       0.80      1.00      0.89         8\n",
            "               drink       1.00      1.00      1.00         8\n",
            "               sleep       1.00      0.12      0.22         8\n",
            "             wake up       0.78      0.88      0.82         8\n",
            "                hear       0.36      1.00      0.53         8\n",
            "             silence       0.67      1.00      0.80         8\n",
            "              inhale       0.89      1.00      0.94         8\n",
            "                rise       1.00      1.00      1.00         8\n",
            "             descend       0.89      1.00      0.94         8\n",
            "                open       0.78      0.88      0.82         8\n",
            "               close       1.00      0.75      0.86         8\n",
            "\n",
            "            accuracy                           0.93       800\n",
            "           macro avg       0.93      0.93      0.91       800\n",
            "        weighted avg       0.93      0.93      0.91       800\n",
            "\n"
          ]
        },
        {
          "name": "stderr",
          "output_type": "stream",
          "text": [
            "C:\\Users\\yzmod\\AppData\\Roaming\\Python\\Python38\\site-packages\\sklearn\\metrics\\_classification.py:1344: UndefinedMetricWarning: Precision and F-score are ill-defined and being set to 0.0 in labels with no predicted samples. Use `zero_division` parameter to control this behavior.\n",
            "  _warn_prf(average, modifier, msg_start, len(result))\n",
            "C:\\Users\\yzmod\\AppData\\Roaming\\Python\\Python38\\site-packages\\sklearn\\metrics\\_classification.py:1344: UndefinedMetricWarning: Precision and F-score are ill-defined and being set to 0.0 in labels with no predicted samples. Use `zero_division` parameter to control this behavior.\n",
            "  _warn_prf(average, modifier, msg_start, len(result))\n",
            "C:\\Users\\yzmod\\AppData\\Roaming\\Python\\Python38\\site-packages\\sklearn\\metrics\\_classification.py:1344: UndefinedMetricWarning: Precision and F-score are ill-defined and being set to 0.0 in labels with no predicted samples. Use `zero_division` parameter to control this behavior.\n",
            "  _warn_prf(average, modifier, msg_start, len(result))\n"
          ]
        }
      ],
      "source": [
        "y_pred = seq_model.predict(test_data01, verbose=0)\n",
        "y_pred = np.argmax(y_pred, axis=1)\n",
        "\n",
        "print(\"The f1 score is: %.3f\" % f1_score(test_labels_01, y_pred, average='macro'))\n",
        "print(\"The MCC score is: %.3f\" % matthews_corrcoef(test_labels_01, y_pred))\n",
        "print(\"The GMean score is: %.3f\" % geometric_mean_score(test_labels_01, y_pred))\n",
        "print(classification_report(test_labels_01, y_pred, target_names=df['Sign-English'].unique()))"
      ]
    },
    {
      "cell_type": "markdown",
      "id": "bd60ef2b",
      "metadata": {
        "id": "bd60ef2b"
      },
      "source": [
        "## Signer 2 Dependent"
      ]
    },
    {
      "cell_type": "code",
      "execution_count": null,
      "id": "d01410fb",
      "metadata": {
        "id": "d01410fb"
      },
      "outputs": [],
      "source": [
        "frame_features_input = keras.Input((MAX_SEQ_LENGTH, NUM_FEATURES))\n",
        "\n",
        "filepath = \"C:/Users/yzmod/Downloads/Model/Dep02\"\n",
        "x = keras.layers.LSTM(64, return_sequences=True)(frame_features_input)\n",
        "x = keras.layers.LSTM(64)(x)\n",
        "x = keras.layers.Dropout(0.2)(x)\n",
        "x = keras.layers.Dense(256, kernel_regularizer=keras.regularizers.l2(0.001), activation=\"relu\")(x)\n",
        "output = keras.layers.Dense(len(class_vocab), activation=\"softmax\")(x)\n",
        "\n",
        "seq_model = keras.Model(frame_features_input, output)\n",
        "\n",
        "seq_model.compile(loss=\"sparse_categorical_crossentropy\", \n",
        "                  optimizer=keras.optimizers.Adam(learning_rate = 1e-4), metrics=[\"accuracy\"])\n",
        "\n",
        "checkpoint = keras.callbacks.ModelCheckpoint(filepath, save_weights_only=True, save_best_only=True, verbose=1)\n",
        "earlyStopper = keras.callbacks.EarlyStopping(monitor='val_loss', patience=5)       "
      ]
    },
    {
      "cell_type": "code",
      "execution_count": null,
      "id": "c82f7151",
      "metadata": {
        "id": "c82f7151",
        "outputId": "05ac4fd9-80bb-4864-97a4-9d6efd2423c6"
      },
      "outputs": [
        {
          "name": "stdout",
          "output_type": "stream",
          "text": [
            "Epoch 1/15\n",
            "78/78 [==============================] - ETA: 0s - loss: 4.6599 - accuracy: 0.0281\n",
            "Epoch 1: val_loss improved from inf to 4.56815, saving model to C:/Users/yzmod/Downloads/Model\\Dep02\n",
            "78/78 [==============================] - 16s 116ms/step - loss: 4.6599 - accuracy: 0.0281 - val_loss: 4.5682 - val_accuracy: 0.0841\n",
            "Epoch 2/15\n",
            "78/78 [==============================] - ETA: 0s - loss: 4.4624 - accuracy: 0.1299\n",
            "Epoch 2: val_loss improved from 4.56815 to 4.30204, saving model to C:/Users/yzmod/Downloads/Model\\Dep02\n",
            "78/78 [==============================] - 8s 107ms/step - loss: 4.4624 - accuracy: 0.1299 - val_loss: 4.3020 - val_accuracy: 0.2178\n",
            "Epoch 3/15\n",
            "78/78 [==============================] - ETA: 0s - loss: 4.1128 - accuracy: 0.2473\n",
            "Epoch 3: val_loss improved from 4.30204 to 3.83410, saving model to C:/Users/yzmod/Downloads/Model\\Dep02\n",
            "78/78 [==============================] - 8s 100ms/step - loss: 4.1128 - accuracy: 0.2473 - val_loss: 3.8341 - val_accuracy: 0.3701\n",
            "Epoch 4/15\n",
            "78/78 [==============================] - ETA: 0s - loss: 3.5760 - accuracy: 0.4124\n",
            "Epoch 4: val_loss improved from 3.83410 to 3.24015, saving model to C:/Users/yzmod/Downloads/Model\\Dep02\n",
            "78/78 [==============================] - 8s 100ms/step - loss: 3.5760 - accuracy: 0.4124 - val_loss: 3.2401 - val_accuracy: 0.5813\n",
            "Epoch 5/15\n",
            "78/78 [==============================] - ETA: 0s - loss: 2.9840 - accuracy: 0.5788\n",
            "Epoch 5: val_loss improved from 3.24015 to 2.67178, saving model to C:/Users/yzmod/Downloads/Model\\Dep02\n",
            "78/78 [==============================] - 7s 96ms/step - loss: 2.9840 - accuracy: 0.5788 - val_loss: 2.6718 - val_accuracy: 0.6991\n",
            "Epoch 6/15\n",
            "78/78 [==============================] - ETA: 0s - loss: 2.4277 - accuracy: 0.7263\n",
            "Epoch 6: val_loss improved from 2.67178 to 2.09363, saving model to C:/Users/yzmod/Downloads/Model\\Dep02\n",
            "78/78 [==============================] - 7s 94ms/step - loss: 2.4277 - accuracy: 0.7263 - val_loss: 2.0936 - val_accuracy: 0.8346\n",
            "Epoch 7/15\n",
            "78/78 [==============================] - ETA: 0s - loss: 1.9586 - accuracy: 0.8040\n",
            "Epoch 7: val_loss improved from 2.09363 to 1.66958, saving model to C:/Users/yzmod/Downloads/Model\\Dep02\n",
            "78/78 [==============================] - 7s 93ms/step - loss: 1.9586 - accuracy: 0.8040 - val_loss: 1.6696 - val_accuracy: 0.8757\n",
            "Epoch 8/15\n",
            "78/78 [==============================] - ETA: 0s - loss: 1.5624 - accuracy: 0.8786\n",
            "Epoch 8: val_loss improved from 1.66958 to 1.32418, saving model to C:/Users/yzmod/Downloads/Model\\Dep02\n",
            "78/78 [==============================] - 7s 92ms/step - loss: 1.5624 - accuracy: 0.8786 - val_loss: 1.3242 - val_accuracy: 0.9318\n",
            "Epoch 9/15\n",
            "78/78 [==============================] - ETA: 0s - loss: 1.3090 - accuracy: 0.8942\n",
            "Epoch 9: val_loss improved from 1.32418 to 1.08015, saving model to C:/Users/yzmod/Downloads/Model\\Dep02\n",
            "78/78 [==============================] - 4s 52ms/step - loss: 1.3090 - accuracy: 0.8942 - val_loss: 1.0802 - val_accuracy: 0.9421\n",
            "Epoch 10/15\n",
            "78/78 [==============================] - ETA: 0s - loss: 1.0453 - accuracy: 0.9419\n",
            "Epoch 10: val_loss improved from 1.08015 to 0.90402, saving model to C:/Users/yzmod/Downloads/Model\\Dep02\n",
            "78/78 [==============================] - 6s 78ms/step - loss: 1.0453 - accuracy: 0.9419 - val_loss: 0.9040 - val_accuracy: 0.9523\n",
            "Epoch 11/15\n",
            "78/78 [==============================] - ETA: 0s - loss: 0.8711 - accuracy: 0.9563\n",
            "Epoch 11: val_loss improved from 0.90402 to 0.75695, saving model to C:/Users/yzmod/Downloads/Model\\Dep02\n",
            "78/78 [==============================] - 7s 96ms/step - loss: 0.8711 - accuracy: 0.9563 - val_loss: 0.7569 - val_accuracy: 0.9626\n",
            "Epoch 12/15\n",
            "78/78 [==============================] - ETA: 0s - loss: 0.7413 - accuracy: 0.9715\n",
            "Epoch 12: val_loss improved from 0.75695 to 0.62743, saving model to C:/Users/yzmod/Downloads/Model\\Dep02\n",
            "78/78 [==============================] - 7s 91ms/step - loss: 0.7413 - accuracy: 0.9715 - val_loss: 0.6274 - val_accuracy: 0.9673\n",
            "Epoch 13/15\n",
            "78/78 [==============================] - ETA: 0s - loss: 0.6299 - accuracy: 0.9760\n",
            "Epoch 13: val_loss improved from 0.62743 to 0.53010, saving model to C:/Users/yzmod/Downloads/Model\\Dep02\n",
            "78/78 [==============================] - 7s 93ms/step - loss: 0.6299 - accuracy: 0.9760 - val_loss: 0.5301 - val_accuracy: 0.9748\n",
            "Epoch 14/15\n",
            "78/78 [==============================] - ETA: 0s - loss: 0.5470 - accuracy: 0.9796\n",
            "Epoch 14: val_loss improved from 0.53010 to 0.46220, saving model to C:/Users/yzmod/Downloads/Model\\Dep02\n",
            "78/78 [==============================] - 8s 97ms/step - loss: 0.5470 - accuracy: 0.9796 - val_loss: 0.4622 - val_accuracy: 0.9822\n",
            "Epoch 15/15\n",
            "78/78 [==============================] - ETA: 0s - loss: 0.4836 - accuracy: 0.9884\n",
            "Epoch 15: val_loss improved from 0.46220 to 0.43142, saving model to C:/Users/yzmod/Downloads/Model\\Dep02\n",
            "78/78 [==============================] - 7s 95ms/step - loss: 0.4836 - accuracy: 0.9884 - val_loss: 0.4314 - val_accuracy: 0.9794\n"
          ]
        }
      ],
      "source": [
        "# start the training\n",
        "history = seq_model.fit(\n",
        "    train_data02,\n",
        "    train_labels_02,\n",
        "    batch_size=32,\n",
        "    validation_data=(val_data02, val_labels_02),\n",
        "    epochs=15,\n",
        "    callbacks=[checkpoint, earlyStopper])"
      ]
    },
    {
      "cell_type": "code",
      "source": [
        "print(history.history.keys())\n",
        "#  \"Accuracy\"\n",
        "plt.plot(history.history['acc'])\n",
        "plt.plot(history.history['val_acc'])\n",
        "plt.title('model accuracy')\n",
        "plt.ylabel('accuracy')\n",
        "plt.xlabel('epoch')\n",
        "plt.legend(['train', 'validation'], loc='upper left')\n",
        "plt.show()\n",
        "# \"Loss\"\n",
        "plt.plot(history.history['loss'])\n",
        "plt.plot(history.history['val_loss'])\n",
        "plt.title('model loss')\n",
        "plt.ylabel('loss')\n",
        "plt.xlabel('epoch')\n",
        "plt.legend(['train', 'validation'], loc='upper left')\n",
        "plt.show()"
      ],
      "metadata": {
        "id": "QnnxwTy2M_lX"
      },
      "id": "QnnxwTy2M_lX",
      "execution_count": null,
      "outputs": []
    },
    {
      "cell_type": "code",
      "execution_count": null,
      "id": "c856ec08",
      "metadata": {
        "id": "c856ec08",
        "outputId": "e3b8b2c5-be39-4e9d-f924-6ffba8e30f0e"
      },
      "outputs": [
        {
          "name": "stdout",
          "output_type": "stream",
          "text": [
            "25/25 [==============================] - 1s 48ms/step - loss: 0.4532 - accuracy: 0.9775\n",
            "Test accuracy: 97.75%\n"
          ]
        }
      ],
      "source": [
        "# use the best model saved during training process for testing\n",
        "seq_model.load_weights(filepath)\n",
        "_, accuracy = seq_model.evaluate(test_data02, test_labels_02)\n",
        "\n",
        "print(f\"Test accuracy: {round(accuracy * 100, 2)}%\")"
      ]
    },
    {
      "cell_type": "code",
      "execution_count": null,
      "id": "4696415e",
      "metadata": {
        "id": "4696415e",
        "outputId": "ddd0124e-de51-4d88-9d02-fb947b38b14b"
      },
      "outputs": [
        {
          "name": "stdout",
          "output_type": "stream",
          "text": [
            "The f1 score is: 0.977\n",
            "The MCC score is: 0.977\n",
            "The GMean score is: 0.976\n",
            "                      precision    recall  f1-score   support\n",
            "\n",
            "            Skeleton       1.00      1.00      1.00         8\n",
            "               skull       1.00      0.88      0.93         8\n",
            "            Backbone       1.00      1.00      1.00         8\n",
            "               Chest       1.00      1.00      1.00         8\n",
            "  Respiratory device       1.00      1.00      1.00         8\n",
            "             Trachea       1.00      1.00      1.00         8\n",
            "               lungs       1.00      1.00      1.00         8\n",
            "        Ins and Outs       1.00      1.00      1.00         8\n",
            "    digestive system       1.00      1.00      1.00         8\n",
            "                Face       0.89      1.00      0.94         8\n",
            "             pharynx       1.00      1.00      1.00         8\n",
            "               liver       0.89      1.00      0.94         8\n",
            "            pancreas       0.89      1.00      0.94         8\n",
            "     Small intestine       0.89      1.00      0.94         8\n",
            "     Large intestine       1.00      0.75      0.86         8\n",
            "            Appendix       1.00      0.88      0.93         8\n",
            "      nervous system       1.00      1.00      1.00         8\n",
            "               heart       1.00      1.00      1.00         8\n",
            "         five senses       1.00      1.00      1.00         8\n",
            "              muscle       0.89      1.00      0.94         8\n",
            "              tissue       1.00      1.00      1.00         8\n",
            "            hospital       0.89      1.00      0.94         8\n",
            "           first aid       1.00      0.88      0.93         8\n",
            "               wound       1.00      1.00      1.00         8\n",
            "             burning       1.00      1.00      1.00         8\n",
            "         anesthetist       1.00      1.00      1.00         8\n",
            "             surgery       1.00      1.00      1.00         8\n",
            "               gauze       0.89      1.00      0.94         8\n",
            "       adhesive tape       1.00      1.00      1.00         8\n",
            "            pharmacy       1.00      0.88      0.93         8\n",
            "      blood analysis       1.00      1.00      1.00         8\n",
            "physical examination       1.00      1.00      1.00         8\n",
            "   sight examination       1.00      1.00      1.00         8\n",
            "         thermometer       1.00      0.73      0.84        11\n",
            "         stethoscope       0.62      1.00      0.77         5\n",
            "   sphygmometroscope       1.00      1.00      1.00         8\n",
            "               pulse       1.00      1.00      1.00         8\n",
            "            analysis       0.89      1.00      0.94         8\n",
            " analysis laboratory       1.00      0.88      0.93         8\n",
            "           ray photo       1.00      1.00      1.00         8\n",
            "        inflammation       1.00      1.00      1.00         8\n",
            "            swelling       1.00      0.88      0.93         8\n",
            "                cold       1.00      1.00      1.00         8\n",
            "           infection       1.00      1.00      1.00         8\n",
            "            headache       1.00      1.00      1.00         8\n",
            "                pain       1.00      1.00      1.00         8\n",
            "               fever       1.00      1.00      1.00         8\n",
            "            diarrhea       1.00      1.00      1.00         8\n",
            "        constipation       1.00      1.00      1.00         8\n",
            "               colic       1.00      1.00      1.00         8\n",
            "            diabetes       1.00      1.00      1.00         8\n",
            "        heart attack       1.00      1.00      1.00         8\n",
            "              cancer       0.88      0.88      0.88         8\n",
            "                Aids       1.00      1.00      1.00         8\n",
            "        Loss of hair       1.00      1.00      1.00         8\n",
            "       Heart failure       1.00      1.00      1.00         8\n",
            "          hemiplegia       1.00      1.00      1.00         8\n",
            "  Cerebral paralysis       1.00      1.00      1.00         8\n",
            "      blood pressure       1.00      1.00      1.00         8\n",
            "             allergy       1.00      1.00      1.00         8\n",
            "                itch       1.00      1.00      1.00         8\n",
            "            medicine       1.00      1.00      1.00         8\n",
            " monthly circulation       1.00      1.00      1.00         8\n",
            "                sick       1.00      1.00      1.00         8\n",
            "             capsule       1.00      1.00      1.00         8\n",
            "     liquid medicine       1.00      1.00      1.00         8\n",
            "            ointment       1.00      0.75      0.86         8\n",
            "             dropper       1.00      0.75      0.86         8\n",
            "         acupuncture       1.00      1.00      1.00         8\n",
            "         pollination       1.00      1.00      1.00         8\n",
            "         inoculation       1.00      1.00      1.00         8\n",
            "           laser ray       1.00      1.00      1.00         8\n",
            "              drug's       1.00      1.00      1.00         8\n",
            "           addiction       0.80      1.00      0.89         8\n",
            "             oneness       1.00      1.00      1.00         8\n",
            "           mongoloid       1.00      1.00      1.00         8\n",
            "           bacterium       1.00      1.00      1.00         8\n",
            "             microbe       1.00      1.00      1.00         8\n",
            "               virus       1.00      1.00      1.00         8\n",
            "              spread       0.89      1.00      0.94         8\n",
            "           hindrance       1.00      1.00      1.00         8\n",
            " mentality hindrance       1.00      1.00      1.00         8\n",
            " physical disability       1.00      1.00      1.00         8\n",
            "   visual impairment       1.00      1.00      1.00         8\n",
            "   hearing hindrance       1.00      1.00      1.00         8\n",
            "            epidemic       1.00      0.88      0.93         8\n",
            "            immunity       1.00      1.00      1.00         8\n",
            "               nerve       0.80      1.00      0.89         8\n",
            "             healthy       1.00      1.00      1.00         8\n",
            "                 eat       1.00      1.00      1.00         8\n",
            "               drink       1.00      1.00      1.00         8\n",
            "               sleep       1.00      1.00      1.00         8\n",
            "             wake up       0.89      1.00      0.94         8\n",
            "                hear       1.00      0.88      0.93         8\n",
            "             silence       1.00      1.00      1.00         8\n",
            "              inhale       1.00      1.00      1.00         8\n",
            "                rise       1.00      1.00      1.00         8\n",
            "             descend       1.00      1.00      1.00         8\n",
            "                open       1.00      1.00      1.00         8\n",
            "               close       1.00      1.00      1.00         8\n",
            "\n",
            "            accuracy                           0.98       800\n",
            "           macro avg       0.98      0.98      0.98       800\n",
            "        weighted avg       0.98      0.98      0.98       800\n",
            "\n"
          ]
        }
      ],
      "source": [
        "y_pred = seq_model.predict(test_data02, verbose=0)\n",
        "y_pred = np.argmax(y_pred, axis=1)\n",
        "\n",
        "print(\"The f1 score is: %.3f\" % f1_score(test_labels_02, y_pred, average='macro'))\n",
        "print(\"The MCC score is: %.3f\" % matthews_corrcoef(test_labels_02, y_pred))\n",
        "print(\"The GMean score is: %.3f\" % geometric_mean_score(test_labels_02, y_pred))\n",
        "print(classification_report(test_labels_02, y_pred, target_names=df['Sign-English'].unique()))"
      ]
    },
    {
      "cell_type": "markdown",
      "id": "508b8ad1",
      "metadata": {
        "id": "508b8ad1"
      },
      "source": [
        "## Signer 3 Dependent"
      ]
    },
    {
      "cell_type": "code",
      "execution_count": null,
      "id": "78e17e0d",
      "metadata": {
        "id": "78e17e0d"
      },
      "outputs": [],
      "source": [
        "frame_features_input = keras.Input((MAX_SEQ_LENGTH, NUM_FEATURES))\n",
        "\n",
        "filepath = \"C:/Users/yzmod/Downloads/Model/Dep03\"\n",
        "x = keras.layers.LSTM(64, return_sequences=True)(frame_features_input)\n",
        "x = keras.layers.LSTM(64)(x)\n",
        "x = keras.layers.Dropout(0.2)(x)\n",
        "x = keras.layers.Dense(256, kernel_regularizer=keras.regularizers.l2(0.001), activation=\"relu\")(x)\n",
        "output = keras.layers.Dense(len(class_vocab), activation=\"softmax\")(x)\n",
        "\n",
        "seq_model = keras.Model(frame_features_input, output)\n",
        "\n",
        "seq_model.compile(loss=\"sparse_categorical_crossentropy\", \n",
        "                  optimizer=keras.optimizers.Adam(learning_rate = 1e-4), metrics=[\"accuracy\"])\n",
        "\n",
        "checkpoint = keras.callbacks.ModelCheckpoint(filepath, save_weights_only=True, save_best_only=True, verbose=1)\n",
        "earlyStopper = keras.callbacks.EarlyStopping(monitor='val_loss', patience=5)   "
      ]
    },
    {
      "cell_type": "code",
      "execution_count": null,
      "id": "36ca6301",
      "metadata": {
        "id": "36ca6301",
        "outputId": "39d21018-020f-4d91-8375-ff25d0ff9179"
      },
      "outputs": [
        {
          "name": "stdout",
          "output_type": "stream",
          "text": [
            "Epoch 1/15\n",
            "78/78 [==============================] - ETA: 0s - loss: 4.6348 - accuracy: 0.0342\n",
            "Epoch 1: val_loss improved from inf to 4.52318, saving model to C:/Users/yzmod/Downloads/Model\\Dep03\n",
            "78/78 [==============================] - 16s 122ms/step - loss: 4.6348 - accuracy: 0.0342 - val_loss: 4.5232 - val_accuracy: 0.0818\n",
            "Epoch 2/15\n",
            "78/78 [==============================] - ETA: 0s - loss: 4.3998 - accuracy: 0.1398\n",
            "Epoch 2: val_loss improved from 4.52318 to 4.22835, saving model to C:/Users/yzmod/Downloads/Model\\Dep03\n",
            "78/78 [==============================] - 8s 100ms/step - loss: 4.3998 - accuracy: 0.1398 - val_loss: 4.2284 - val_accuracy: 0.2585\n",
            "Epoch 3/15\n",
            "78/78 [==============================] - ETA: 0s - loss: 4.0298 - accuracy: 0.2768\n",
            "Epoch 3: val_loss improved from 4.22835 to 3.75631, saving model to C:/Users/yzmod/Downloads/Model\\Dep03\n",
            "78/78 [==============================] - 8s 99ms/step - loss: 4.0298 - accuracy: 0.2768 - val_loss: 3.7563 - val_accuracy: 0.4436\n",
            "Epoch 4/15\n",
            "78/78 [==============================] - ETA: 0s - loss: 3.5226 - accuracy: 0.4323\n",
            "Epoch 4: val_loss improved from 3.75631 to 3.16742, saving model to C:/Users/yzmod/Downloads/Model\\Dep03\n",
            "78/78 [==============================] - 8s 97ms/step - loss: 3.5226 - accuracy: 0.4323 - val_loss: 3.1674 - val_accuracy: 0.5714\n",
            "Epoch 5/15\n",
            "78/78 [==============================] - ETA: 0s - loss: 2.9345 - accuracy: 0.6003\n",
            "Epoch 5: val_loss improved from 3.16742 to 2.62710, saving model to C:/Users/yzmod/Downloads/Model\\Dep03\n",
            "78/78 [==============================] - 7s 95ms/step - loss: 2.9345 - accuracy: 0.6003 - val_loss: 2.6271 - val_accuracy: 0.7133\n",
            "Epoch 6/15\n",
            "78/78 [==============================] - ETA: 0s - loss: 2.4121 - accuracy: 0.7067\n",
            "Epoch 6: val_loss improved from 2.62710 to 2.06345, saving model to C:/Users/yzmod/Downloads/Model\\Dep03\n",
            "78/78 [==============================] - 7s 91ms/step - loss: 2.4121 - accuracy: 0.7067 - val_loss: 2.0634 - val_accuracy: 0.8515\n",
            "Epoch 7/15\n",
            "78/78 [==============================] - ETA: 0s - loss: 1.9137 - accuracy: 0.8102\n",
            "Epoch 7: val_loss improved from 2.06345 to 1.59538, saving model to C:/Users/yzmod/Downloads/Model\\Dep03\n",
            "78/78 [==============================] - 7s 92ms/step - loss: 1.9137 - accuracy: 0.8102 - val_loss: 1.5954 - val_accuracy: 0.9154\n",
            "Epoch 8/15\n",
            "78/78 [==============================] - ETA: 0s - loss: 1.5270 - accuracy: 0.8828\n",
            "Epoch 8: val_loss improved from 1.59538 to 1.34033, saving model to C:/Users/yzmod/Downloads/Model\\Dep03\n",
            "78/78 [==============================] - 7s 85ms/step - loss: 1.5270 - accuracy: 0.8828 - val_loss: 1.3403 - val_accuracy: 0.9239\n",
            "Epoch 9/15\n",
            "78/78 [==============================] - ETA: 0s - loss: 1.2526 - accuracy: 0.9166\n",
            "Epoch 9: val_loss improved from 1.34033 to 1.02872, saving model to C:/Users/yzmod/Downloads/Model\\Dep03\n",
            "78/78 [==============================] - 7s 85ms/step - loss: 1.2526 - accuracy: 0.9166 - val_loss: 1.0287 - val_accuracy: 0.9521\n",
            "Epoch 10/15\n",
            "78/78 [==============================] - ETA: 0s - loss: 0.9953 - accuracy: 0.9452\n",
            "Epoch 10: val_loss improved from 1.02872 to 0.82929, saving model to C:/Users/yzmod/Downloads/Model\\Dep03\n",
            "78/78 [==============================] - 7s 86ms/step - loss: 0.9953 - accuracy: 0.9452 - val_loss: 0.8293 - val_accuracy: 0.9671\n",
            "Epoch 11/15\n",
            "78/78 [==============================] - ETA: 0s - loss: 0.8271 - accuracy: 0.9662\n",
            "Epoch 11: val_loss improved from 0.82929 to 0.70253, saving model to C:/Users/yzmod/Downloads/Model\\Dep03\n",
            "78/78 [==============================] - 7s 86ms/step - loss: 0.8271 - accuracy: 0.9662 - val_loss: 0.7025 - val_accuracy: 0.9699\n",
            "Epoch 12/15\n",
            "78/78 [==============================] - ETA: 0s - loss: 0.7032 - accuracy: 0.9770\n",
            "Epoch 12: val_loss improved from 0.70253 to 0.59507, saving model to C:/Users/yzmod/Downloads/Model\\Dep03\n",
            "78/78 [==============================] - 7s 88ms/step - loss: 0.7032 - accuracy: 0.9770 - val_loss: 0.5951 - val_accuracy: 0.9765\n",
            "Epoch 13/15\n",
            "78/78 [==============================] - ETA: 0s - loss: 0.5967 - accuracy: 0.9807\n",
            "Epoch 13: val_loss improved from 0.59507 to 0.51000, saving model to C:/Users/yzmod/Downloads/Model\\Dep03\n",
            "78/78 [==============================] - 7s 86ms/step - loss: 0.5967 - accuracy: 0.9807 - val_loss: 0.5100 - val_accuracy: 0.9859\n",
            "Epoch 14/15\n",
            "78/78 [==============================] - ETA: 0s - loss: 0.5167 - accuracy: 0.9895\n",
            "Epoch 14: val_loss improved from 0.51000 to 0.46755, saving model to C:/Users/yzmod/Downloads/Model\\Dep03\n",
            "78/78 [==============================] - 7s 87ms/step - loss: 0.5167 - accuracy: 0.9895 - val_loss: 0.4676 - val_accuracy: 0.9784\n",
            "Epoch 15/15\n",
            "78/78 [==============================] - ETA: 0s - loss: 0.4677 - accuracy: 0.9895\n",
            "Epoch 15: val_loss improved from 0.46755 to 0.40576, saving model to C:/Users/yzmod/Downloads/Model\\Dep03\n",
            "78/78 [==============================] - 7s 88ms/step - loss: 0.4677 - accuracy: 0.9895 - val_loss: 0.4058 - val_accuracy: 0.9878\n"
          ]
        }
      ],
      "source": [
        "# start the training\n",
        "history = seq_model.fit(\n",
        "    train_data03,\n",
        "    train_labels_03,\n",
        "    batch_size=32,\n",
        "    validation_data=(val_data03, val_labels_03),\n",
        "    epochs=15,\n",
        "    callbacks=[checkpoint, earlyStopper])"
      ]
    },
    {
      "cell_type": "code",
      "source": [
        "print(history.history.keys())\n",
        "#  \"Accuracy\"\n",
        "plt.plot(history.history['acc'])\n",
        "plt.plot(history.history['val_acc'])\n",
        "plt.title('model accuracy')\n",
        "plt.ylabel('accuracy')\n",
        "plt.xlabel('epoch')\n",
        "plt.legend(['train', 'validation'], loc='upper left')\n",
        "plt.show()\n",
        "# \"Loss\"\n",
        "plt.plot(history.history['loss'])\n",
        "plt.plot(history.history['val_loss'])\n",
        "plt.title('model loss')\n",
        "plt.ylabel('loss')\n",
        "plt.xlabel('epoch')\n",
        "plt.legend(['train', 'validation'], loc='upper left')\n",
        "plt.show()"
      ],
      "metadata": {
        "id": "Tvu5Q2FtNCi1"
      },
      "id": "Tvu5Q2FtNCi1",
      "execution_count": null,
      "outputs": []
    },
    {
      "cell_type": "code",
      "execution_count": null,
      "id": "4ed32fbd",
      "metadata": {
        "id": "4ed32fbd",
        "outputId": "cf341c9f-4481-4440-909d-aa8043780781"
      },
      "outputs": [
        {
          "name": "stdout",
          "output_type": "stream",
          "text": [
            "25/25 [==============================] - 1s 42ms/step - loss: 0.4145 - accuracy: 0.9912\n",
            "Test accuracy: 99.12%\n"
          ]
        }
      ],
      "source": [
        "# use the best model saved during training process for testing\n",
        "seq_model.load_weights(filepath)\n",
        "_, accuracy = seq_model.evaluate(test_data03, test_labels_03)\n",
        "\n",
        "print(f\"Test accuracy: {round(accuracy * 100, 2)}%\")"
      ]
    },
    {
      "cell_type": "code",
      "execution_count": null,
      "id": "02b9f59d",
      "metadata": {
        "id": "02b9f59d",
        "outputId": "3e6d562a-7c36-4c6b-f03e-c2f27dabe16e"
      },
      "outputs": [
        {
          "name": "stdout",
          "output_type": "stream",
          "text": [
            "The f1 score is: 0.991\n",
            "The MCC score is: 0.991\n",
            "The GMean score is: 0.990\n",
            "                      precision    recall  f1-score   support\n",
            "\n",
            "            Skeleton       1.00      1.00      1.00         8\n",
            "               skull       1.00      1.00      1.00         8\n",
            "            Backbone       1.00      1.00      1.00         8\n",
            "               Chest       1.00      1.00      1.00         8\n",
            "  Respiratory device       1.00      1.00      1.00         8\n",
            "             Trachea       1.00      1.00      1.00         8\n",
            "               lungs       1.00      1.00      1.00         8\n",
            "        Ins and Outs       1.00      1.00      1.00         8\n",
            "    digestive system       1.00      1.00      1.00         8\n",
            "                Face       1.00      1.00      1.00         8\n",
            "             pharynx       1.00      1.00      1.00         8\n",
            "               liver       1.00      1.00      1.00         8\n",
            "            pancreas       1.00      1.00      1.00         8\n",
            "     Small intestine       0.89      1.00      0.94         8\n",
            "     Large intestine       1.00      0.75      0.86         8\n",
            "            Appendix       0.80      1.00      0.89         8\n",
            "      nervous system       1.00      1.00      1.00         8\n",
            "               heart       1.00      1.00      1.00         8\n",
            "         five senses       1.00      1.00      1.00         8\n",
            "              muscle       1.00      1.00      1.00         8\n",
            "              tissue       1.00      1.00      1.00         8\n",
            "            hospital       1.00      1.00      1.00         8\n",
            "           first aid       1.00      1.00      1.00         8\n",
            "               wound       1.00      1.00      1.00         8\n",
            "             burning       1.00      1.00      1.00         8\n",
            "         anesthetist       1.00      1.00      1.00         8\n",
            "             surgery       1.00      1.00      1.00         8\n",
            "               gauze       1.00      1.00      1.00         8\n",
            "       adhesive tape       1.00      1.00      1.00         8\n",
            "            pharmacy       1.00      1.00      1.00         8\n",
            "      blood analysis       1.00      1.00      1.00         8\n",
            "physical examination       1.00      1.00      1.00         8\n",
            "   sight examination       1.00      1.00      1.00         8\n",
            "         thermometer       1.00      1.00      1.00         8\n",
            "         stethoscope       1.00      0.88      0.93         8\n",
            "   sphygmometroscope       1.00      1.00      1.00         8\n",
            "               pulse       1.00      1.00      1.00         8\n",
            "            analysis       1.00      1.00      1.00         8\n",
            " analysis laboratory       1.00      1.00      1.00         8\n",
            "           ray photo       1.00      1.00      1.00         8\n",
            "        inflammation       1.00      1.00      1.00         8\n",
            "            swelling       1.00      1.00      1.00         8\n",
            "                cold       1.00      1.00      1.00         8\n",
            "           infection       1.00      1.00      1.00         8\n",
            "            headache       1.00      1.00      1.00         8\n",
            "                pain       1.00      1.00      1.00         8\n",
            "               fever       1.00      1.00      1.00         8\n",
            "            diarrhea       1.00      1.00      1.00         8\n",
            "        constipation       0.88      0.88      0.88         8\n",
            "               colic       0.88      0.88      0.88         8\n",
            "            diabetes       1.00      1.00      1.00         8\n",
            "        heart attack       1.00      1.00      1.00         8\n",
            "              cancer       1.00      1.00      1.00         8\n",
            "                Aids       0.89      1.00      0.94         8\n",
            "        Loss of hair       1.00      1.00      1.00         8\n",
            "       Heart failure       1.00      1.00      1.00         8\n",
            "          hemiplegia       1.00      1.00      1.00         8\n",
            "  Cerebral paralysis       1.00      1.00      1.00         8\n",
            "      blood pressure       1.00      1.00      1.00         8\n",
            "             allergy       1.00      1.00      1.00         8\n",
            "                itch       1.00      1.00      1.00         8\n",
            "            medicine       1.00      1.00      1.00         8\n",
            " monthly circulation       1.00      1.00      1.00         8\n",
            "                sick       1.00      1.00      1.00         8\n",
            "             capsule       1.00      1.00      1.00         8\n",
            "     liquid medicine       1.00      0.88      0.93         8\n",
            "            ointment       1.00      1.00      1.00         8\n",
            "             dropper       1.00      1.00      1.00         8\n",
            "         acupuncture       1.00      1.00      1.00         8\n",
            "         pollination       1.00      1.00      1.00         8\n",
            "         inoculation       1.00      1.00      1.00         8\n",
            "           laser ray       1.00      1.00      1.00         8\n",
            "              drug's       1.00      1.00      1.00         8\n",
            "           addiction       1.00      1.00      1.00         8\n",
            "             oneness       1.00      0.88      0.93         8\n",
            "           mongoloid       1.00      1.00      1.00         8\n",
            "           bacterium       1.00      1.00      1.00         8\n",
            "             microbe       1.00      1.00      1.00         8\n",
            "               virus       1.00      1.00      1.00         8\n",
            "              spread       1.00      1.00      1.00         8\n",
            "           hindrance       1.00      1.00      1.00         8\n",
            " mentality hindrance       1.00      1.00      1.00         8\n",
            " physical disability       1.00      1.00      1.00         8\n",
            "   visual impairment       1.00      1.00      1.00         8\n",
            "   hearing hindrance       0.89      1.00      0.94         8\n",
            "            epidemic       1.00      1.00      1.00         8\n",
            "            immunity       1.00      1.00      1.00         8\n",
            "               nerve       1.00      1.00      1.00         8\n",
            "             healthy       1.00      1.00      1.00         8\n",
            "                 eat       1.00      1.00      1.00         8\n",
            "               drink       1.00      1.00      1.00         8\n",
            "               sleep       1.00      1.00      1.00         8\n",
            "             wake up       1.00      1.00      1.00         8\n",
            "                hear       1.00      1.00      1.00         8\n",
            "             silence       1.00      1.00      1.00         8\n",
            "              inhale       1.00      1.00      1.00         8\n",
            "                rise       1.00      1.00      1.00         8\n",
            "             descend       1.00      1.00      1.00         8\n",
            "                open       1.00      1.00      1.00         8\n",
            "               close       1.00      1.00      1.00         8\n",
            "\n",
            "            accuracy                           0.99       800\n",
            "           macro avg       0.99      0.99      0.99       800\n",
            "        weighted avg       0.99      0.99      0.99       800\n",
            "\n"
          ]
        }
      ],
      "source": [
        "y_pred = seq_model.predict(test_data03, verbose=0)\n",
        "y_pred = np.argmax(y_pred, axis=1)\n",
        "\n",
        "print(\"The f1 score is: %.3f\" % f1_score(test_labels_03, y_pred, average='macro'))\n",
        "print(\"The MCC score is: %.3f\" % matthews_corrcoef(test_labels_03, y_pred))\n",
        "print(\"The GMean score is: %.3f\" % geometric_mean_score(test_labels_03, y_pred))\n",
        "print(classification_report(test_labels_03, y_pred, target_names=df['Sign-English'].unique()))"
      ]
    },
    {
      "cell_type": "markdown",
      "id": "b6e37359",
      "metadata": {
        "id": "b6e37359"
      },
      "source": [
        "# Training Independent models"
      ]
    },
    {
      "cell_type": "markdown",
      "id": "57909c6a",
      "metadata": {
        "id": "57909c6a"
      },
      "source": [
        "## Signer 1 Independent"
      ]
    },
    {
      "cell_type": "code",
      "execution_count": null,
      "id": "173384c1",
      "metadata": {
        "id": "173384c1"
      },
      "outputs": [],
      "source": [
        "frame_features_input = keras.Input((MAX_SEQ_LENGTH, NUM_FEATURES))\n",
        "\n",
        "filepath = \"C:/Users/yzmod/Downloads/Model/Indep01\"\n",
        "x = keras.layers.LSTM(64, return_sequences=True)(frame_features_input)\n",
        "x = keras.layers.LSTM(64)(x)\n",
        "x = keras.layers.Dropout(0.4)(x)\n",
        "x = keras.layers.Dense(256, kernel_regularizer=keras.regularizers.l2(0.001), activation=\"relu\")(x)\n",
        "output = keras.layers.Dense(len(class_vocab), activation=\"softmax\")(x)\n",
        "\n",
        "seq_model = keras.Model(frame_features_input, output)\n",
        "\n",
        "seq_model.compile(loss=\"sparse_categorical_crossentropy\", \n",
        "                  optimizer=keras.optimizers.Adam(learning_rate = 1e-4), metrics=[\"accuracy\"])\n",
        "\n",
        "checkpoint = keras.callbacks.ModelCheckpoint(filepath, save_weights_only=True, save_best_only=True, verbose=1)\n",
        "earlyStopper = keras.callbacks.EarlyStopping(monitor='val_loss', patience=5)    "
      ]
    },
    {
      "cell_type": "code",
      "execution_count": null,
      "id": "1aa89a62",
      "metadata": {
        "id": "1aa89a62"
      },
      "outputs": [],
      "source": [
        "train_data02_03 = np.vstack([train_data02, train_data03])\n",
        "val_data02_03 = np.vstack([val_data02, val_data03])\n",
        "train_labels_02_03 = np.append(train_labels_02, train_labels_03)\n",
        "val_labels_02_03 = np.append(val_labels_02, val_labels_03)"
      ]
    },
    {
      "cell_type": "code",
      "execution_count": null,
      "id": "1e120e91",
      "metadata": {
        "id": "1e120e91",
        "outputId": "750d18b7-4270-4c6e-a12e-065eeeab994a"
      },
      "outputs": [
        {
          "name": "stdout",
          "output_type": "stream",
          "text": [
            "Epoch 1/15\n",
            "78/78 [==============================] - ETA: 0s - loss: 4.6703 - accuracy: 0.0221\n",
            "Epoch 1: val_loss improved from inf to 4.60208, saving model to C:/Users/yzmod/Downloads/Model\\Indep01\n",
            "78/78 [==============================] - 27s 266ms/step - loss: 4.6703 - accuracy: 0.0221 - val_loss: 4.6021 - val_accuracy: 0.0651\n",
            "Epoch 2/15\n",
            "78/78 [==============================] - ETA: 0s - loss: 4.5318 - accuracy: 0.0701\n",
            "Epoch 2: val_loss improved from 4.60208 to 4.39901, saving model to C:/Users/yzmod/Downloads/Model\\Indep01\n",
            "78/78 [==============================] - 15s 192ms/step - loss: 4.5318 - accuracy: 0.0701 - val_loss: 4.3990 - val_accuracy: 0.1771\n",
            "Epoch 3/15\n",
            "78/78 [==============================] - ETA: 0s - loss: 4.2714 - accuracy: 0.1453\n",
            "Epoch 3: val_loss improved from 4.39901 to 4.02520, saving model to C:/Users/yzmod/Downloads/Model\\Indep01\n",
            "78/78 [==============================] - 15s 196ms/step - loss: 4.2714 - accuracy: 0.1453 - val_loss: 4.0252 - val_accuracy: 0.2741\n",
            "Epoch 4/15\n",
            "78/78 [==============================] - ETA: 0s - loss: 3.8684 - accuracy: 0.2260\n",
            "Epoch 4: val_loss improved from 4.02520 to 3.52870, saving model to C:/Users/yzmod/Downloads/Model\\Indep01\n",
            "78/78 [==============================] - 15s 193ms/step - loss: 3.8684 - accuracy: 0.2260 - val_loss: 3.5287 - val_accuracy: 0.3932\n",
            "Epoch 5/15\n",
            "78/78 [==============================] - ETA: 0s - loss: 3.3951 - accuracy: 0.3386\n",
            "Epoch 5: val_loss improved from 3.52870 to 3.00947, saving model to C:/Users/yzmod/Downloads/Model\\Indep01\n",
            "78/78 [==============================] - 15s 189ms/step - loss: 3.3951 - accuracy: 0.3386 - val_loss: 3.0095 - val_accuracy: 0.5375\n",
            "Epoch 6/15\n",
            "78/78 [==============================] - ETA: 0s - loss: 2.9516 - accuracy: 0.4463\n",
            "Epoch 6: val_loss improved from 3.00947 to 2.62046, saving model to C:/Users/yzmod/Downloads/Model\\Indep01\n",
            "78/78 [==============================] - 15s 189ms/step - loss: 2.9516 - accuracy: 0.4463 - val_loss: 2.6205 - val_accuracy: 0.6326\n",
            "Epoch 7/15\n",
            "78/78 [==============================] - ETA: 0s - loss: 2.5414 - accuracy: 0.5610\n",
            "Epoch 7: val_loss improved from 2.62046 to 2.19230, saving model to C:/Users/yzmod/Downloads/Model\\Indep01\n",
            "78/78 [==============================] - 14s 184ms/step - loss: 2.5414 - accuracy: 0.5610 - val_loss: 2.1923 - val_accuracy: 0.7254\n",
            "Epoch 8/15\n",
            "78/78 [==============================] - ETA: 0s - loss: 2.2053 - accuracy: 0.6299\n",
            "Epoch 8: val_loss improved from 2.19230 to 1.84083, saving model to C:/Users/yzmod/Downloads/Model\\Indep01\n",
            "78/78 [==============================] - 14s 184ms/step - loss: 2.2053 - accuracy: 0.6299 - val_loss: 1.8408 - val_accuracy: 0.7821\n",
            "Epoch 9/15\n",
            "78/78 [==============================] - ETA: 0s - loss: 1.8957 - accuracy: 0.7026\n",
            "Epoch 9: val_loss improved from 1.84083 to 1.53320, saving model to C:/Users/yzmod/Downloads/Model\\Indep01\n",
            "78/78 [==============================] - 14s 181ms/step - loss: 1.8957 - accuracy: 0.7026 - val_loss: 1.5332 - val_accuracy: 0.8360\n",
            "Epoch 10/15\n",
            "78/78 [==============================] - ETA: 0s - loss: 1.6576 - accuracy: 0.7406\n",
            "Epoch 10: val_loss improved from 1.53320 to 1.29942, saving model to C:/Users/yzmod/Downloads/Model\\Indep01\n",
            "78/78 [==============================] - 14s 176ms/step - loss: 1.6576 - accuracy: 0.7406 - val_loss: 1.2994 - val_accuracy: 0.8894\n",
            "Epoch 11/15\n",
            "78/78 [==============================] - ETA: 0s - loss: 1.4412 - accuracy: 0.7934\n",
            "Epoch 11: val_loss improved from 1.29942 to 1.11413, saving model to C:/Users/yzmod/Downloads/Model\\Indep01\n",
            "78/78 [==============================] - 13s 167ms/step - loss: 1.4412 - accuracy: 0.7934 - val_loss: 1.1141 - val_accuracy: 0.9049\n",
            "Epoch 12/15\n",
            "78/78 [==============================] - ETA: 0s - loss: 1.2678 - accuracy: 0.8302\n",
            "Epoch 12: val_loss improved from 1.11413 to 0.95745, saving model to C:/Users/yzmod/Downloads/Model\\Indep01\n",
            "78/78 [==============================] - 13s 169ms/step - loss: 1.2678 - accuracy: 0.8302 - val_loss: 0.9574 - val_accuracy: 0.9161\n",
            "Epoch 13/15\n",
            "78/78 [==============================] - ETA: 0s - loss: 1.1271 - accuracy: 0.8489\n",
            "Epoch 13: val_loss improved from 0.95745 to 0.85252, saving model to C:/Users/yzmod/Downloads/Model\\Indep01\n",
            "78/78 [==============================] - 14s 174ms/step - loss: 1.1271 - accuracy: 0.8489 - val_loss: 0.8525 - val_accuracy: 0.9377\n",
            "Epoch 14/15\n",
            "78/78 [==============================] - ETA: 0s - loss: 0.9898 - accuracy: 0.8873\n",
            "Epoch 14: val_loss improved from 0.85252 to 0.72349, saving model to C:/Users/yzmod/Downloads/Model\\Indep01\n",
            "78/78 [==============================] - 13s 173ms/step - loss: 0.9898 - accuracy: 0.8873 - val_loss: 0.7235 - val_accuracy: 0.9480\n",
            "Epoch 15/15\n",
            "78/78 [==============================] - ETA: 0s - loss: 0.8954 - accuracy: 0.8943\n",
            "Epoch 15: val_loss improved from 0.72349 to 0.64394, saving model to C:/Users/yzmod/Downloads/Model\\Indep01\n",
            "78/78 [==============================] - 13s 167ms/step - loss: 0.8954 - accuracy: 0.8943 - val_loss: 0.6439 - val_accuracy: 0.9560\n"
          ]
        }
      ],
      "source": [
        "# start the training\n",
        "history = seq_model.fit(\n",
        "    train_data02_03,\n",
        "    train_labels_02_03,\n",
        "    batch_size=64,\n",
        "    validation_data=(val_data02_03, val_labels_02_03),\n",
        "    epochs=15,\n",
        "    callbacks=[checkpoint, earlyStopper])"
      ]
    },
    {
      "cell_type": "code",
      "source": [
        "print(history.history.keys())\n",
        "#  \"Accuracy\"\n",
        "plt.plot(history.history['acc'])\n",
        "plt.plot(history.history['val_acc'])\n",
        "plt.title('model accuracy')\n",
        "plt.ylabel('accuracy')\n",
        "plt.xlabel('epoch')\n",
        "plt.legend(['train', 'validation'], loc='upper left')\n",
        "plt.show()\n",
        "# \"Loss\"\n",
        "plt.plot(history.history['loss'])\n",
        "plt.plot(history.history['val_loss'])\n",
        "plt.title('model loss')\n",
        "plt.ylabel('loss')\n",
        "plt.xlabel('epoch')\n",
        "plt.legend(['train', 'validation'], loc='upper left')\n",
        "plt.show()"
      ],
      "metadata": {
        "id": "s8XlocZ9NFVC"
      },
      "id": "s8XlocZ9NFVC",
      "execution_count": null,
      "outputs": []
    },
    {
      "cell_type": "code",
      "execution_count": null,
      "id": "fff9fad5",
      "metadata": {
        "id": "fff9fad5",
        "outputId": "68b6d161-8476-401f-ccc6-036a3499c528"
      },
      "outputs": [
        {
          "name": "stdout",
          "output_type": "stream",
          "text": [
            "25/25 [==============================] - 2s 61ms/step - loss: 4.7080 - accuracy: 0.0825\n",
            "Test accuracy: 8.25%\n"
          ]
        }
      ],
      "source": [
        "# use the best model saved during training process for testing\n",
        "seq_model.load_weights(filepath)\n",
        "_, accuracy = seq_model.evaluate(test_data01, test_labels_01)\n",
        "\n",
        "print(f\"Test accuracy: {round(accuracy * 100, 2)}%\")"
      ]
    },
    {
      "cell_type": "code",
      "execution_count": null,
      "id": "1a0fd48a",
      "metadata": {
        "id": "1a0fd48a",
        "outputId": "405429f8-a80d-4f86-b5f4-32251d00d298"
      },
      "outputs": [
        {
          "name": "stdout",
          "output_type": "stream",
          "text": [
            "The f1 score is: 0.065\n",
            "The MCC score is: 0.074\n",
            "The GMean score is: 0.000\n",
            "                      precision    recall  f1-score   support\n",
            "\n",
            "            Skeleton       0.00      0.00      0.00         8\n",
            "               skull       0.12      0.38      0.18         8\n",
            "            Backbone       0.00      0.00      0.00         8\n",
            "               Chest       0.00      0.00      0.00         8\n",
            "  Respiratory device       0.00      0.00      0.00         8\n",
            "             Trachea       0.00      0.00      0.00         8\n",
            "               lungs       0.00      0.00      0.00         8\n",
            "        Ins and Outs       0.00      0.00      0.00         8\n",
            "    digestive system       0.00      0.00      0.00         8\n",
            "                Face       0.00      0.00      0.00         8\n",
            "             pharynx       0.00      0.00      0.00         8\n",
            "               liver       0.00      0.00      0.00         8\n",
            "            pancreas       0.00      0.00      0.00         8\n",
            "     Small intestine       0.00      0.00      0.00         8\n",
            "     Large intestine       0.00      0.00      0.00         8\n",
            "            Appendix       0.00      0.00      0.00         8\n",
            "      nervous system       1.00      0.25      0.40         8\n",
            "               heart       0.00      0.00      0.00         8\n",
            "         five senses       0.05      0.12      0.07         8\n",
            "              muscle       0.00      0.00      0.00         8\n",
            "              tissue       0.11      0.12      0.12         8\n",
            "            hospital       0.14      0.25      0.18         8\n",
            "           first aid       0.06      0.25      0.09         8\n",
            "               wound       0.00      0.00      0.00         8\n",
            "             burning       0.00      0.00      0.00         8\n",
            "         anesthetist       0.03      0.12      0.05         8\n",
            "             surgery       0.00      0.00      0.00         8\n",
            "               gauze       0.00      0.00      0.00         8\n",
            "       adhesive tape       0.00      0.00      0.00         8\n",
            "            pharmacy       0.29      0.25      0.27         8\n",
            "      blood analysis       0.09      0.38      0.14         8\n",
            "physical examination       0.00      0.00      0.00         8\n",
            "   sight examination       0.00      0.00      0.00         8\n",
            "         thermometer       0.00      0.00      0.00         8\n",
            "         stethoscope       0.00      0.00      0.00         8\n",
            "   sphygmometroscope       0.33      0.38      0.35         8\n",
            "               pulse       0.00      0.00      0.00         8\n",
            "            analysis       0.00      0.00      0.00         8\n",
            " analysis laboratory       0.00      0.00      0.00         8\n",
            "           ray photo       0.00      0.00      0.00         8\n",
            "        inflammation       0.00      0.00      0.00         8\n",
            "            swelling       0.12      0.62      0.20         8\n",
            "                cold       0.70      0.88      0.78         8\n",
            "           infection       0.00      0.00      0.00         8\n",
            "            headache       0.00      0.00      0.00         8\n",
            "                pain       0.00      0.00      0.00         8\n",
            "               fever       0.50      0.12      0.20         8\n",
            "            diarrhea       0.00      0.00      0.00         8\n",
            "        constipation       0.00      0.00      0.00         8\n",
            "               colic       0.00      0.00      0.00         8\n",
            "            diabetes       0.10      0.12      0.11         8\n",
            "        heart attack       0.00      0.00      0.00         8\n",
            "              cancer       0.32      0.88      0.47         8\n",
            "                Aids       0.00      0.00      0.00         8\n",
            "        Loss of hair       0.00      0.00      0.00         8\n",
            "       Heart failure       0.00      0.00      0.00         8\n",
            "          hemiplegia       0.00      0.00      0.00         8\n",
            "  Cerebral paralysis       0.00      0.00      0.00         8\n",
            "      blood pressure       0.00      0.00      0.00         8\n",
            "             allergy       0.00      0.00      0.00         8\n",
            "                itch       0.15      0.50      0.24         8\n",
            "            medicine       0.00      0.00      0.00         8\n",
            " monthly circulation       0.00      0.00      0.00         8\n",
            "                sick       0.00      0.00      0.00         8\n",
            "             capsule       0.00      0.00      0.00         8\n",
            "     liquid medicine       0.00      0.00      0.00         8\n",
            "            ointment       0.00      0.00      0.00         8\n",
            "             dropper       0.06      0.12      0.08         8\n",
            "         acupuncture       0.00      0.00      0.00         8\n",
            "         pollination       0.00      0.00      0.00         8\n",
            "         inoculation       0.14      0.12      0.13         8\n",
            "           laser ray       0.50      0.12      0.20         8\n",
            "              drug's       0.22      0.25      0.24         8\n",
            "           addiction       0.00      0.00      0.00         8\n",
            "             oneness       0.00      0.00      0.00         8\n",
            "           mongoloid       0.00      0.00      0.00         8\n",
            "           bacterium       0.00      0.00      0.00         8\n",
            "             microbe       0.00      0.00      0.00         8\n",
            "               virus       0.00      0.00      0.00         8\n",
            "              spread       0.00      0.00      0.00         8\n",
            "           hindrance       0.00      0.00      0.00         8\n",
            " mentality hindrance       0.00      0.00      0.00         8\n",
            " physical disability       0.00      0.00      0.00         8\n",
            "   visual impairment       1.00      1.00      1.00         8\n",
            "   hearing hindrance       0.00      0.00      0.00         8\n",
            "            epidemic       0.00      0.00      0.00         8\n",
            "            immunity       0.00      0.00      0.00         8\n",
            "               nerve       0.00      0.00      0.00         8\n",
            "             healthy       0.00      0.00      0.00         8\n",
            "                 eat       0.00      0.00      0.00         8\n",
            "               drink       0.00      0.00      0.00         8\n",
            "               sleep       0.60      0.38      0.46         8\n",
            "             wake up       0.00      0.00      0.00         8\n",
            "                hear       0.00      0.00      0.00         8\n",
            "             silence       0.00      0.00      0.00         8\n",
            "              inhale       0.00      0.00      0.00         8\n",
            "                rise       0.42      0.62      0.50         8\n",
            "             descend       0.00      0.00      0.00         8\n",
            "                open       0.00      0.00      0.00         8\n",
            "               close       0.00      0.00      0.00         8\n",
            "\n",
            "            accuracy                           0.08       800\n",
            "           macro avg       0.07      0.08      0.06       800\n",
            "        weighted avg       0.07      0.08      0.06       800\n",
            "\n"
          ]
        },
        {
          "name": "stderr",
          "output_type": "stream",
          "text": [
            "C:\\Users\\yzmod\\AppData\\Roaming\\Python\\Python38\\site-packages\\sklearn\\metrics\\_classification.py:1344: UndefinedMetricWarning: Precision and F-score are ill-defined and being set to 0.0 in labels with no predicted samples. Use `zero_division` parameter to control this behavior.\n",
            "  _warn_prf(average, modifier, msg_start, len(result))\n",
            "C:\\Users\\yzmod\\AppData\\Roaming\\Python\\Python38\\site-packages\\sklearn\\metrics\\_classification.py:1344: UndefinedMetricWarning: Precision and F-score are ill-defined and being set to 0.0 in labels with no predicted samples. Use `zero_division` parameter to control this behavior.\n",
            "  _warn_prf(average, modifier, msg_start, len(result))\n",
            "C:\\Users\\yzmod\\AppData\\Roaming\\Python\\Python38\\site-packages\\sklearn\\metrics\\_classification.py:1344: UndefinedMetricWarning: Precision and F-score are ill-defined and being set to 0.0 in labels with no predicted samples. Use `zero_division` parameter to control this behavior.\n",
            "  _warn_prf(average, modifier, msg_start, len(result))\n"
          ]
        }
      ],
      "source": [
        "y_pred = seq_model.predict(test_data01, verbose=0)\n",
        "y_pred = np.argmax(y_pred, axis=1)\n",
        "\n",
        "print(\"The f1 score is: %.3f\" % f1_score(test_labels_01, y_pred, average='macro'))\n",
        "print(\"The MCC score is: %.3f\" % matthews_corrcoef(test_labels_01, y_pred))\n",
        "print(\"The GMean score is: %.3f\" % geometric_mean_score(test_labels_01, y_pred))\n",
        "print(classification_report(test_labels_01, y_pred, target_names=df['Sign-English'].unique()))"
      ]
    },
    {
      "cell_type": "markdown",
      "id": "c88091f3",
      "metadata": {
        "id": "c88091f3"
      },
      "source": [
        "## Signer 2 Independent"
      ]
    },
    {
      "cell_type": "code",
      "execution_count": null,
      "id": "e6b08797",
      "metadata": {
        "id": "e6b08797"
      },
      "outputs": [],
      "source": [
        "frame_features_input = keras.Input((MAX_SEQ_LENGTH, NUM_FEATURES))\n",
        "\n",
        "filepath = \"C:/Users/yzmod/Downloads/Model/Indep02\"\n",
        "x = keras.layers.LSTM(64, return_sequences=True)(frame_features_input)\n",
        "x = keras.layers.LSTM(64)(x)\n",
        "x = keras.layers.Dropout(0.4)(x)\n",
        "x = keras.layers.Dense(256, kernel_regularizer=keras.regularizers.l2(0.001), activation=\"relu\")(x)\n",
        "output = keras.layers.Dense(len(class_vocab), activation=\"softmax\")(x)\n",
        "\n",
        "seq_model = keras.Model(frame_features_input, output)\n",
        "\n",
        "seq_model.compile(loss=\"sparse_categorical_crossentropy\", \n",
        "                  optimizer=keras.optimizers.Adam(learning_rate = 1e-4), metrics=[\"accuracy\"])\n",
        "\n",
        "checkpoint = keras.callbacks.ModelCheckpoint(filepath, save_weights_only=True, save_best_only=True, verbose=1)\n",
        "earlyStopper = keras.callbacks.EarlyStopping(monitor='val_loss', patience=5)    "
      ]
    },
    {
      "cell_type": "code",
      "execution_count": null,
      "id": "e6f0a484",
      "metadata": {
        "id": "e6f0a484"
      },
      "outputs": [],
      "source": [
        "train_data01_03 = np.vstack([train_data01, train_data03])\n",
        "val_data01_03 = np.vstack([val_data01, val_data03])\n",
        "train_labels_01_03 = np.append(train_labels_01, train_labels_03)\n",
        "val_labels_01_03 = np.append(val_labels_01, val_labels_03)"
      ]
    },
    {
      "cell_type": "code",
      "execution_count": null,
      "id": "a65d0c5f",
      "metadata": {
        "id": "a65d0c5f",
        "outputId": "1b348b28-3a7f-4afa-ec72-9cb0778a9663"
      },
      "outputs": [
        {
          "name": "stdout",
          "output_type": "stream",
          "text": [
            "Epoch 1/15\n",
            "78/78 [==============================] - ETA: 0s - loss: 4.6742 - accuracy: 0.0274\n",
            "Epoch 1: val_loss improved from inf to 4.61160, saving model to C:/Users/yzmod/Downloads/Model\\Indep02\n",
            "78/78 [==============================] - 21s 192ms/step - loss: 4.6742 - accuracy: 0.0274 - val_loss: 4.6116 - val_accuracy: 0.0832\n",
            "Epoch 2/15\n",
            "78/78 [==============================] - ETA: 0s - loss: 4.5509 - accuracy: 0.0772\n",
            "Epoch 2: val_loss improved from 4.61160 to 4.43840, saving model to C:/Users/yzmod/Downloads/Model\\Indep02\n",
            "78/78 [==============================] - 12s 160ms/step - loss: 4.5509 - accuracy: 0.0772 - val_loss: 4.4384 - val_accuracy: 0.1588\n",
            "Epoch 3/15\n",
            "78/78 [==============================] - ETA: 0s - loss: 4.3263 - accuracy: 0.1289\n",
            "Epoch 3: val_loss improved from 4.43840 to 4.13401, saving model to C:/Users/yzmod/Downloads/Model\\Indep02\n",
            "78/78 [==============================] - 13s 169ms/step - loss: 4.3263 - accuracy: 0.1289 - val_loss: 4.1340 - val_accuracy: 0.2353\n",
            "Epoch 4/15\n",
            "78/78 [==============================] - ETA: 0s - loss: 3.9857 - accuracy: 0.2014\n",
            "Epoch 4: val_loss improved from 4.13401 to 3.68764, saving model to C:/Users/yzmod/Downloads/Model\\Indep02\n",
            "78/78 [==============================] - 13s 168ms/step - loss: 3.9857 - accuracy: 0.2014 - val_loss: 3.6876 - val_accuracy: 0.3370\n",
            "Epoch 5/15\n",
            "78/78 [==============================] - ETA: 0s - loss: 3.5622 - accuracy: 0.2877\n",
            "Epoch 5: val_loss improved from 3.68764 to 3.23925, saving model to C:/Users/yzmod/Downloads/Model\\Indep02\n",
            "78/78 [==============================] - 13s 171ms/step - loss: 3.5622 - accuracy: 0.2877 - val_loss: 3.2393 - val_accuracy: 0.4149\n",
            "Epoch 6/15\n",
            "78/78 [==============================] - ETA: 0s - loss: 3.1107 - accuracy: 0.4055\n",
            "Epoch 6: val_loss improved from 3.23925 to 2.75030, saving model to C:/Users/yzmod/Downloads/Model\\Indep02\n",
            "78/78 [==============================] - 13s 171ms/step - loss: 3.1107 - accuracy: 0.4055 - val_loss: 2.7503 - val_accuracy: 0.5468\n",
            "Epoch 7/15\n",
            "78/78 [==============================] - ETA: 0s - loss: 2.6902 - accuracy: 0.5033\n",
            "Epoch 7: val_loss improved from 2.75030 to 2.35966, saving model to C:/Users/yzmod/Downloads/Model\\Indep02\n",
            "78/78 [==============================] - 13s 169ms/step - loss: 2.6902 - accuracy: 0.5033 - val_loss: 2.3597 - val_accuracy: 0.6673\n",
            "Epoch 8/15\n",
            "78/78 [==============================] - ETA: 0s - loss: 2.3400 - accuracy: 0.5856\n",
            "Epoch 8: val_loss improved from 2.35966 to 1.96072, saving model to C:/Users/yzmod/Downloads/Model\\Indep02\n",
            "78/78 [==============================] - 13s 170ms/step - loss: 2.3400 - accuracy: 0.5856 - val_loss: 1.9607 - val_accuracy: 0.7826\n",
            "Epoch 9/15\n",
            "78/78 [==============================] - ETA: 0s - loss: 2.0354 - accuracy: 0.6711\n",
            "Epoch 9: val_loss improved from 1.96072 to 1.64388, saving model to C:/Users/yzmod/Downloads/Model\\Indep02\n",
            "78/78 [==============================] - 13s 161ms/step - loss: 2.0354 - accuracy: 0.6711 - val_loss: 1.6439 - val_accuracy: 0.8318\n",
            "Epoch 10/15\n",
            "78/78 [==============================] - ETA: 0s - loss: 1.7537 - accuracy: 0.7299\n",
            "Epoch 10: val_loss improved from 1.64388 to 1.43641, saving model to C:/Users/yzmod/Downloads/Model\\Indep02\n",
            "78/78 [==============================] - 13s 164ms/step - loss: 1.7537 - accuracy: 0.7299 - val_loss: 1.4364 - val_accuracy: 0.8625\n",
            "Epoch 11/15\n",
            "78/78 [==============================] - ETA: 0s - loss: 1.5356 - accuracy: 0.7716\n",
            "Epoch 11: val_loss improved from 1.43641 to 1.21323, saving model to C:/Users/yzmod/Downloads/Model\\Indep02\n",
            "78/78 [==============================] - 13s 171ms/step - loss: 1.5356 - accuracy: 0.7716 - val_loss: 1.2132 - val_accuracy: 0.9083\n",
            "Epoch 12/15\n",
            "78/78 [==============================] - ETA: 0s - loss: 1.3620 - accuracy: 0.8097\n",
            "Epoch 12: val_loss improved from 1.21323 to 1.06500, saving model to C:/Users/yzmod/Downloads/Model\\Indep02\n",
            "78/78 [==============================] - 13s 166ms/step - loss: 1.3620 - accuracy: 0.8097 - val_loss: 1.0650 - val_accuracy: 0.9121\n",
            "Epoch 13/15\n",
            "78/78 [==============================] - ETA: 0s - loss: 1.2060 - accuracy: 0.8438\n",
            "Epoch 13: val_loss improved from 1.06500 to 0.90001, saving model to C:/Users/yzmod/Downloads/Model\\Indep02\n",
            "78/78 [==============================] - 13s 163ms/step - loss: 1.2060 - accuracy: 0.8438 - val_loss: 0.9000 - val_accuracy: 0.9319\n",
            "Epoch 14/15\n",
            "78/78 [==============================] - ETA: 0s - loss: 1.0786 - accuracy: 0.8580\n",
            "Epoch 14: val_loss improved from 0.90001 to 0.79803, saving model to C:/Users/yzmod/Downloads/Model\\Indep02\n",
            "78/78 [==============================] - 12s 160ms/step - loss: 1.0786 - accuracy: 0.8580 - val_loss: 0.7980 - val_accuracy: 0.9485\n",
            "Epoch 15/15\n",
            "78/78 [==============================] - ETA: 0s - loss: 0.9559 - accuracy: 0.8898\n",
            "Epoch 15: val_loss improved from 0.79803 to 0.71681, saving model to C:/Users/yzmod/Downloads/Model\\Indep02\n",
            "78/78 [==============================] - 13s 171ms/step - loss: 0.9559 - accuracy: 0.8898 - val_loss: 0.7168 - val_accuracy: 0.9494\n"
          ]
        }
      ],
      "source": [
        "# start the training\n",
        "history = seq_model.fit(\n",
        "    train_data01_03,\n",
        "    train_labels_01_03,\n",
        "    batch_size=64,\n",
        "    validation_data=(val_data01_03, val_labels_01_03),\n",
        "    epochs=15,\n",
        "    callbacks=[checkpoint, earlyStopper])"
      ]
    },
    {
      "cell_type": "code",
      "source": [
        "print(history.history.keys())\n",
        "#  \"Accuracy\"\n",
        "plt.plot(history.history['acc'])\n",
        "plt.plot(history.history['val_acc'])\n",
        "plt.title('model accuracy')\n",
        "plt.ylabel('accuracy')\n",
        "plt.xlabel('epoch')\n",
        "plt.legend(['train', 'validation'], loc='upper left')\n",
        "plt.show()\n",
        "# \"Loss\"\n",
        "plt.plot(history.history['loss'])\n",
        "plt.plot(history.history['val_loss'])\n",
        "plt.title('model loss')\n",
        "plt.ylabel('loss')\n",
        "plt.xlabel('epoch')\n",
        "plt.legend(['train', 'validation'], loc='upper left')\n",
        "plt.show()"
      ],
      "metadata": {
        "id": "YJ1uIVwNNH2q"
      },
      "id": "YJ1uIVwNNH2q",
      "execution_count": null,
      "outputs": []
    },
    {
      "cell_type": "code",
      "execution_count": null,
      "id": "a81f8f99",
      "metadata": {
        "id": "a81f8f99",
        "outputId": "74db2009-7eb0-4e3f-83db-048deea2eb4e"
      },
      "outputs": [
        {
          "name": "stdout",
          "output_type": "stream",
          "text": [
            "25/25 [==============================] - 2s 58ms/step - loss: 4.7352 - accuracy: 0.0962\n",
            "Test accuracy: 9.62%\n"
          ]
        }
      ],
      "source": [
        "# use the best model saved during training process for testing\n",
        "seq_model.load_weights(filepath)\n",
        "_, accuracy = seq_model.evaluate(test_data02, test_labels_02)\n",
        "\n",
        "print(f\"Test accuracy: {round(accuracy * 100, 2)}%\")"
      ]
    },
    {
      "cell_type": "code",
      "execution_count": null,
      "id": "4bbc6bef",
      "metadata": {
        "id": "4bbc6bef",
        "outputId": "a698ba04-e5da-457f-a4d0-ca055310b302"
      },
      "outputs": [
        {
          "name": "stdout",
          "output_type": "stream",
          "text": [
            "The f1 score is: 0.082\n",
            "The MCC score is: 0.088\n",
            "The GMean score is: 0.000\n",
            "                      precision    recall  f1-score   support\n",
            "\n",
            "            Skeleton       0.62      0.62      0.62         8\n",
            "               skull       0.33      0.38      0.35         8\n",
            "            Backbone       1.00      0.38      0.55         8\n",
            "               Chest       0.00      0.00      0.00         8\n",
            "  Respiratory device       0.50      0.12      0.20         8\n",
            "             Trachea       0.00      0.00      0.00         8\n",
            "               lungs       0.00      0.00      0.00         8\n",
            "        Ins and Outs       0.50      0.25      0.33         8\n",
            "    digestive system       0.00      0.00      0.00         8\n",
            "                Face       0.00      0.00      0.00         8\n",
            "             pharynx       0.00      0.00      0.00         8\n",
            "               liver       0.00      0.00      0.00         8\n",
            "            pancreas       0.00      0.00      0.00         8\n",
            "     Small intestine       0.00      0.00      0.00         8\n",
            "     Large intestine       0.00      0.00      0.00         8\n",
            "            Appendix       0.12      0.25      0.17         8\n",
            "      nervous system       0.06      0.12      0.08         8\n",
            "               heart       0.00      0.00      0.00         8\n",
            "         five senses       0.00      0.00      0.00         8\n",
            "              muscle       0.00      0.00      0.00         8\n",
            "              tissue       0.00      0.00      0.00         8\n",
            "            hospital       0.00      0.00      0.00         8\n",
            "           first aid       0.00      0.00      0.00         8\n",
            "               wound       0.00      0.00      0.00         8\n",
            "             burning       0.00      0.00      0.00         8\n",
            "         anesthetist       0.00      0.00      0.00         8\n",
            "             surgery       0.00      0.00      0.00         8\n",
            "               gauze       0.00      0.00      0.00         8\n",
            "       adhesive tape       0.00      0.00      0.00         8\n",
            "            pharmacy       0.00      0.00      0.00         8\n",
            "      blood analysis       0.00      0.00      0.00         8\n",
            "physical examination       0.00      0.00      0.00         8\n",
            "   sight examination       0.07      0.25      0.11         8\n",
            "         thermometer       0.00      0.00      0.00        11\n",
            "         stethoscope       0.00      0.00      0.00         5\n",
            "   sphygmometroscope       0.00      0.00      0.00         8\n",
            "               pulse       0.00      0.00      0.00         8\n",
            "            analysis       0.00      0.00      0.00         8\n",
            " analysis laboratory       0.00      0.00      0.00         8\n",
            "           ray photo       0.00      0.00      0.00         8\n",
            "        inflammation       0.00      0.00      0.00         8\n",
            "            swelling       0.00      0.00      0.00         8\n",
            "                cold       0.00      0.00      0.00         8\n",
            "           infection       0.00      0.00      0.00         8\n",
            "            headache       0.20      0.50      0.29         8\n",
            "                pain       0.00      0.00      0.00         8\n",
            "               fever       0.06      0.12      0.08         8\n",
            "            diarrhea       0.36      0.62      0.45         8\n",
            "        constipation       0.00      0.00      0.00         8\n",
            "               colic       0.00      0.00      0.00         8\n",
            "            diabetes       0.00      0.00      0.00         8\n",
            "        heart attack       0.00      0.00      0.00         8\n",
            "              cancer       0.00      0.00      0.00         8\n",
            "                Aids       0.00      0.00      0.00         8\n",
            "        Loss of hair       0.00      0.00      0.00         8\n",
            "       Heart failure       0.00      0.00      0.00         8\n",
            "          hemiplegia       0.00      0.00      0.00         8\n",
            "  Cerebral paralysis       0.12      0.50      0.20         8\n",
            "      blood pressure       0.00      0.00      0.00         8\n",
            "             allergy       0.05      0.12      0.07         8\n",
            "                itch       0.00      0.00      0.00         8\n",
            "            medicine       0.00      0.00      0.00         8\n",
            " monthly circulation       0.00      0.00      0.00         8\n",
            "                sick       0.00      0.00      0.00         8\n",
            "             capsule       0.00      0.00      0.00         8\n",
            "     liquid medicine       0.38      0.38      0.38         8\n",
            "            ointment       0.00      0.00      0.00         8\n",
            "             dropper       0.00      0.00      0.00         8\n",
            "         acupuncture       0.00      0.00      0.00         8\n",
            "         pollination       0.00      0.00      0.00         8\n",
            "         inoculation       1.00      0.25      0.40         8\n",
            "           laser ray       0.25      0.25      0.25         8\n",
            "              drug's       0.00      0.00      0.00         8\n",
            "           addiction       0.00      0.00      0.00         8\n",
            "             oneness       0.00      0.00      0.00         8\n",
            "           mongoloid       0.05      0.12      0.07         8\n",
            "           bacterium       0.14      0.50      0.22         8\n",
            "             microbe       0.00      0.00      0.00         8\n",
            "               virus       0.12      0.25      0.16         8\n",
            "              spread       0.00      0.00      0.00         8\n",
            "           hindrance       0.04      0.12      0.06         8\n",
            " mentality hindrance       0.16      0.38      0.22         8\n",
            " physical disability       0.00      0.00      0.00         8\n",
            "   visual impairment       0.89      1.00      0.94         8\n",
            "   hearing hindrance       0.00      0.00      0.00         8\n",
            "            epidemic       0.00      0.00      0.00         8\n",
            "            immunity       0.11      0.12      0.12         8\n",
            "               nerve       0.00      0.00      0.00         8\n",
            "             healthy       0.12      0.12      0.12         8\n",
            "                 eat       0.18      0.25      0.21         8\n",
            "               drink       0.10      0.25      0.14         8\n",
            "               sleep       0.00      0.00      0.00         8\n",
            "             wake up       0.00      0.00      0.00         8\n",
            "                hear       0.00      0.00      0.00         8\n",
            "             silence       0.50      0.12      0.20         8\n",
            "              inhale       0.00      0.00      0.00         8\n",
            "                rise       0.89      1.00      0.94         8\n",
            "             descend       0.00      0.00      0.00         8\n",
            "                open       0.25      0.12      0.17         8\n",
            "               close       0.17      0.12      0.14         8\n",
            "\n",
            "            accuracy                           0.10       800\n",
            "           macro avg       0.09      0.10      0.08       800\n",
            "        weighted avg       0.09      0.10      0.08       800\n",
            "\n"
          ]
        },
        {
          "name": "stderr",
          "output_type": "stream",
          "text": [
            "C:\\Users\\yzmod\\AppData\\Roaming\\Python\\Python38\\site-packages\\sklearn\\metrics\\_classification.py:1344: UndefinedMetricWarning: Precision and F-score are ill-defined and being set to 0.0 in labels with no predicted samples. Use `zero_division` parameter to control this behavior.\n",
            "  _warn_prf(average, modifier, msg_start, len(result))\n",
            "C:\\Users\\yzmod\\AppData\\Roaming\\Python\\Python38\\site-packages\\sklearn\\metrics\\_classification.py:1344: UndefinedMetricWarning: Precision and F-score are ill-defined and being set to 0.0 in labels with no predicted samples. Use `zero_division` parameter to control this behavior.\n",
            "  _warn_prf(average, modifier, msg_start, len(result))\n",
            "C:\\Users\\yzmod\\AppData\\Roaming\\Python\\Python38\\site-packages\\sklearn\\metrics\\_classification.py:1344: UndefinedMetricWarning: Precision and F-score are ill-defined and being set to 0.0 in labels with no predicted samples. Use `zero_division` parameter to control this behavior.\n",
            "  _warn_prf(average, modifier, msg_start, len(result))\n"
          ]
        }
      ],
      "source": [
        "y_pred = seq_model.predict(test_data02, verbose=0)\n",
        "y_pred = np.argmax(y_pred, axis=1)\n",
        "\n",
        "print(\"The f1 score is: %.3f\" % f1_score(test_labels_02, y_pred, average='macro'))\n",
        "print(\"The MCC score is: %.3f\" % matthews_corrcoef(test_labels_02, y_pred))\n",
        "print(\"The GMean score is: %.3f\" % geometric_mean_score(test_labels_02, y_pred))\n",
        "print(classification_report(test_labels_02, y_pred, target_names=df['Sign-English'].unique()))"
      ]
    },
    {
      "cell_type": "markdown",
      "id": "7da076d9",
      "metadata": {
        "id": "7da076d9"
      },
      "source": [
        "## Signer 3 Independent"
      ]
    },
    {
      "cell_type": "code",
      "execution_count": null,
      "id": "303aa848",
      "metadata": {
        "id": "303aa848"
      },
      "outputs": [],
      "source": [
        "frame_features_input = keras.Input((MAX_SEQ_LENGTH, NUM_FEATURES))\n",
        "\n",
        "filepath = \"C:/Users/yzmod/Downloads/Model/Indep03\"\n",
        "x = keras.layers.LSTM(64, return_sequences=True)(frame_features_input)\n",
        "x = keras.layers.LSTM(64)(x)\n",
        "x = keras.layers.Dropout(0.2)(x)\n",
        "x = keras.layers.Dense(256, kernel_regularizer=keras.regularizers.l2(0.001), activation=\"relu\")(x)\n",
        "output = keras.layers.Dense(len(class_vocab), activation=\"softmax\")(x)\n",
        "\n",
        "seq_model = keras.Model(frame_features_input, output)\n",
        "\n",
        "seq_model.compile(loss=\"sparse_categorical_crossentropy\", \n",
        "                  optimizer=keras.optimizers.Adam(learning_rate = 1e-4), metrics=[\"accuracy\"])\n",
        "\n",
        "checkpoint = keras.callbacks.ModelCheckpoint(filepath, save_weights_only=True, save_best_only=True, verbose=1)\n",
        "earlyStopper = keras.callbacks.EarlyStopping(monitor='val_loss', patience=5)    "
      ]
    },
    {
      "cell_type": "code",
      "execution_count": null,
      "id": "9d2b1616",
      "metadata": {
        "id": "9d2b1616"
      },
      "outputs": [],
      "source": [
        "train_data01_02 = np.vstack([train_data01, train_data02])\n",
        "val_data01_02 = np.vstack([val_data01, val_data02])\n",
        "train_labels_01_02 = np.append(train_labels_01, train_labels_02)\n",
        "val_labels_01_02 = np.append(val_labels_01, val_labels_02)"
      ]
    },
    {
      "cell_type": "code",
      "execution_count": null,
      "id": "731ce0fe",
      "metadata": {
        "id": "731ce0fe",
        "outputId": "4ca8d535-536b-4528-e527-90fb63fec6d9"
      },
      "outputs": [
        {
          "name": "stdout",
          "output_type": "stream",
          "text": [
            "Epoch 1/15\n",
            "78/78 [==============================] - ETA: 0s - loss: 4.6568 - accuracy: 0.0394\n",
            "Epoch 1: val_loss improved from inf to 4.56341, saving model to C:/Users/yzmod/Downloads/Model\\Indep03\n",
            "78/78 [==============================] - 33s 332ms/step - loss: 4.6568 - accuracy: 0.0394 - val_loss: 4.5634 - val_accuracy: 0.0881\n",
            "Epoch 2/15\n",
            "78/78 [==============================] - ETA: 0s - loss: 4.4428 - accuracy: 0.1035\n",
            "Epoch 2: val_loss improved from 4.56341 to 4.26128, saving model to C:/Users/yzmod/Downloads/Model\\Indep03\n",
            "78/78 [==============================] - 22s 289ms/step - loss: 4.4428 - accuracy: 0.1035 - val_loss: 4.2613 - val_accuracy: 0.1569\n",
            "Epoch 3/15\n",
            "78/78 [==============================] - ETA: 0s - loss: 4.0618 - accuracy: 0.1797\n",
            "Epoch 3: val_loss improved from 4.26128 to 3.77218, saving model to C:/Users/yzmod/Downloads/Model\\Indep03\n",
            "78/78 [==============================] - 22s 286ms/step - loss: 4.0618 - accuracy: 0.1797 - val_loss: 3.7722 - val_accuracy: 0.2516\n",
            "Epoch 4/15\n",
            "78/78 [==============================] - ETA: 0s - loss: 3.5387 - accuracy: 0.2945\n",
            "Epoch 4: val_loss improved from 3.77218 to 3.23794, saving model to C:/Users/yzmod/Downloads/Model\\Indep03\n",
            "78/78 [==============================] - 22s 287ms/step - loss: 3.5387 - accuracy: 0.2945 - val_loss: 3.2379 - val_accuracy: 0.4100\n",
            "Epoch 5/15\n",
            "78/78 [==============================] - ETA: 0s - loss: 2.9998 - accuracy: 0.4406\n",
            "Epoch 5: val_loss improved from 3.23794 to 2.69639, saving model to C:/Users/yzmod/Downloads/Model\\Indep03\n",
            "78/78 [==============================] - 22s 289ms/step - loss: 2.9998 - accuracy: 0.4406 - val_loss: 2.6964 - val_accuracy: 0.5589\n",
            "Epoch 6/15\n",
            "78/78 [==============================] - ETA: 0s - loss: 2.5144 - accuracy: 0.5837\n",
            "Epoch 6: val_loss improved from 2.69639 to 2.27458, saving model to C:/Users/yzmod/Downloads/Model\\Indep03\n",
            "78/78 [==============================] - 22s 289ms/step - loss: 2.5144 - accuracy: 0.5837 - val_loss: 2.2746 - val_accuracy: 0.6616\n",
            "Epoch 7/15\n",
            "78/78 [==============================] - ETA: 0s - loss: 2.1378 - accuracy: 0.6716\n",
            "Epoch 7: val_loss improved from 2.27458 to 1.88866, saving model to C:/Users/yzmod/Downloads/Model\\Indep03\n",
            "78/78 [==============================] - 22s 285ms/step - loss: 2.1378 - accuracy: 0.6716 - val_loss: 1.8887 - val_accuracy: 0.7856\n",
            "Epoch 8/15\n",
            "78/78 [==============================] - ETA: 0s - loss: 1.7814 - accuracy: 0.7674\n",
            "Epoch 8: val_loss improved from 1.88866 to 1.54747, saving model to C:/Users/yzmod/Downloads/Model\\Indep03\n",
            "78/78 [==============================] - 23s 290ms/step - loss: 1.7814 - accuracy: 0.7674 - val_loss: 1.5475 - val_accuracy: 0.8431\n",
            "Epoch 9/15\n",
            "78/78 [==============================] - ETA: 0s - loss: 1.4905 - accuracy: 0.8321\n",
            "Epoch 9: val_loss improved from 1.54747 to 1.31167, saving model to C:/Users/yzmod/Downloads/Model\\Indep03\n",
            "78/78 [==============================] - 23s 290ms/step - loss: 1.4905 - accuracy: 0.8321 - val_loss: 1.3117 - val_accuracy: 0.8746\n",
            "Epoch 10/15\n",
            "78/78 [==============================] - ETA: 0s - loss: 1.2739 - accuracy: 0.8705\n",
            "Epoch 10: val_loss improved from 1.31167 to 1.10805, saving model to C:/Users/yzmod/Downloads/Model\\Indep03\n",
            "78/78 [==============================] - 22s 287ms/step - loss: 1.2739 - accuracy: 0.8705 - val_loss: 1.1080 - val_accuracy: 0.9204\n",
            "Epoch 11/15\n",
            "78/78 [==============================] - ETA: 0s - loss: 1.0855 - accuracy: 0.9014\n",
            "Epoch 11: val_loss improved from 1.10805 to 0.96330, saving model to C:/Users/yzmod/Downloads/Model\\Indep03\n",
            "78/78 [==============================] - 22s 282ms/step - loss: 1.0855 - accuracy: 0.9014 - val_loss: 0.9633 - val_accuracy: 0.9237\n",
            "Epoch 12/15\n",
            "78/78 [==============================] - ETA: 0s - loss: 0.9313 - accuracy: 0.9226\n",
            "Epoch 12: val_loss improved from 0.96330 to 0.83691, saving model to C:/Users/yzmod/Downloads/Model\\Indep03\n",
            "78/78 [==============================] - 22s 283ms/step - loss: 0.9313 - accuracy: 0.9226 - val_loss: 0.8369 - val_accuracy: 0.9425\n",
            "Epoch 13/15\n",
            "78/78 [==============================] - ETA: 0s - loss: 0.8168 - accuracy: 0.9422\n",
            "Epoch 13: val_loss improved from 0.83691 to 0.70605, saving model to C:/Users/yzmod/Downloads/Model\\Indep03\n",
            "78/78 [==============================] - 22s 282ms/step - loss: 0.8168 - accuracy: 0.9422 - val_loss: 0.7061 - val_accuracy: 0.9599\n",
            "Epoch 14/15\n",
            "78/78 [==============================] - ETA: 0s - loss: 0.7290 - accuracy: 0.9497\n",
            "Epoch 14: val_loss improved from 0.70605 to 0.65444, saving model to C:/Users/yzmod/Downloads/Model\\Indep03\n",
            "78/78 [==============================] - 22s 281ms/step - loss: 0.7290 - accuracy: 0.9497 - val_loss: 0.6544 - val_accuracy: 0.9533\n",
            "Epoch 15/15\n",
            "78/78 [==============================] - ETA: 0s - loss: 0.6356 - accuracy: 0.9660\n",
            "Epoch 15: val_loss improved from 0.65444 to 0.56941, saving model to C:/Users/yzmod/Downloads/Model\\Indep03\n",
            "78/78 [==============================] - 22s 278ms/step - loss: 0.6356 - accuracy: 0.9660 - val_loss: 0.5694 - val_accuracy: 0.9599\n"
          ]
        }
      ],
      "source": [
        "# start the training\n",
        "history = seq_model.fit(\n",
        "    train_data01_02,\n",
        "    train_labels_01_02,\n",
        "    batch_size=64,\n",
        "    validation_data=(val_data01_02, val_labels_01_02),\n",
        "    epochs=15,\n",
        "    callbacks=[checkpoint, earlyStopper])"
      ]
    },
    {
      "cell_type": "code",
      "source": [
        "print(history.history.keys())\n",
        "#  \"Accuracy\"\n",
        "plt.plot(history.history['acc'])\n",
        "plt.plot(history.history['val_acc'])\n",
        "plt.title('model accuracy')\n",
        "plt.ylabel('accuracy')\n",
        "plt.xlabel('epoch')\n",
        "plt.legend(['train', 'validation'], loc='upper left')\n",
        "plt.show()\n",
        "# \"Loss\"\n",
        "plt.plot(history.history['loss'])\n",
        "plt.plot(history.history['val_loss'])\n",
        "plt.title('model loss')\n",
        "plt.ylabel('loss')\n",
        "plt.xlabel('epoch')\n",
        "plt.legend(['train', 'validation'], loc='upper left')\n",
        "plt.show()"
      ],
      "metadata": {
        "id": "VOa985XBNK7q"
      },
      "id": "VOa985XBNK7q",
      "execution_count": null,
      "outputs": []
    },
    {
      "cell_type": "code",
      "execution_count": null,
      "id": "999e98e4",
      "metadata": {
        "id": "999e98e4",
        "outputId": "48e865ba-d11c-4ea5-e0e2-57d8601bdfed"
      },
      "outputs": [
        {
          "name": "stdout",
          "output_type": "stream",
          "text": [
            "25/25 [==============================] - 3s 106ms/step - loss: 4.9405 - accuracy: 0.0688\n",
            "Test accuracy: 6.88%\n"
          ]
        }
      ],
      "source": [
        "# use the best model saved during training process for testing\n",
        "seq_model.load_weights(filepath)\n",
        "_, accuracy = seq_model.evaluate(test_data03, test_labels_03)\n",
        "\n",
        "print(f\"Test accuracy: {round(accuracy * 100, 2)}%\")"
      ]
    },
    {
      "cell_type": "code",
      "execution_count": null,
      "id": "9296f2f8",
      "metadata": {
        "id": "9296f2f8",
        "outputId": "38927c5e-069f-42de-ade0-44dd7bfd8f9a"
      },
      "outputs": [
        {
          "name": "stdout",
          "output_type": "stream",
          "text": [
            "The f1 score is: 0.059\n",
            "The MCC score is: 0.060\n",
            "The GMean score is: 0.000\n",
            "                      precision    recall  f1-score   support\n",
            "\n",
            "            Skeleton       0.03      0.12      0.05         8\n",
            "               skull       0.00      0.00      0.00         8\n",
            "            Backbone       0.04      0.12      0.06         8\n",
            "               Chest       0.00      0.00      0.00         8\n",
            "  Respiratory device       0.00      0.00      0.00         8\n",
            "             Trachea       0.00      0.00      0.00         8\n",
            "               lungs       0.00      0.00      0.00         8\n",
            "        Ins and Outs       0.00      0.00      0.00         8\n",
            "    digestive system       0.00      0.00      0.00         8\n",
            "                Face       0.00      0.00      0.00         8\n",
            "             pharynx       0.00      0.00      0.00         8\n",
            "               liver       0.00      0.00      0.00         8\n",
            "            pancreas       0.00      0.00      0.00         8\n",
            "     Small intestine       0.00      0.00      0.00         8\n",
            "     Large intestine       0.00      0.00      0.00         8\n",
            "            Appendix       0.00      0.00      0.00         8\n",
            "      nervous system       0.00      0.00      0.00         8\n",
            "               heart       0.00      0.00      0.00         8\n",
            "         five senses       0.07      0.12      0.09         8\n",
            "              muscle       0.19      0.38      0.25         8\n",
            "              tissue       0.00      0.00      0.00         8\n",
            "            hospital       0.00      0.00      0.00         8\n",
            "           first aid       0.00      0.00      0.00         8\n",
            "               wound       0.00      0.00      0.00         8\n",
            "             burning       0.00      0.00      0.00         8\n",
            "         anesthetist       0.00      0.00      0.00         8\n",
            "             surgery       0.00      0.00      0.00         8\n",
            "               gauze       0.00      0.00      0.00         8\n",
            "       adhesive tape       0.00      0.00      0.00         8\n",
            "            pharmacy       0.00      0.00      0.00         8\n",
            "      blood analysis       0.08      0.12      0.10         8\n",
            "physical examination       0.00      0.00      0.00         8\n",
            "   sight examination       0.00      0.00      0.00         8\n",
            "         thermometer       0.50      0.25      0.33         8\n",
            "         stethoscope       0.00      0.00      0.00         8\n",
            "   sphygmometroscope       0.19      0.38      0.25         8\n",
            "               pulse       0.00      0.00      0.00         8\n",
            "            analysis       0.05      0.25      0.09         8\n",
            " analysis laboratory       0.27      0.38      0.32         8\n",
            "           ray photo       0.00      0.00      0.00         8\n",
            "        inflammation       0.00      0.00      0.00         8\n",
            "            swelling       0.38      0.38      0.38         8\n",
            "                cold       0.09      0.12      0.11         8\n",
            "           infection       0.00      0.00      0.00         8\n",
            "            headache       0.00      0.00      0.00         8\n",
            "                pain       0.50      0.12      0.20         8\n",
            "               fever       0.00      0.00      0.00         8\n",
            "            diarrhea       0.00      0.00      0.00         8\n",
            "        constipation       0.00      0.00      0.00         8\n",
            "               colic       0.06      0.38      0.10         8\n",
            "            diabetes       0.20      0.25      0.22         8\n",
            "        heart attack       0.00      0.00      0.00         8\n",
            "              cancer       0.00      0.00      0.00         8\n",
            "                Aids       0.00      0.00      0.00         8\n",
            "        Loss of hair       0.00      0.00      0.00         8\n",
            "       Heart failure       0.00      0.00      0.00         8\n",
            "          hemiplegia       0.00      0.00      0.00         8\n",
            "  Cerebral paralysis       0.00      0.00      0.00         8\n",
            "      blood pressure       0.00      0.00      0.00         8\n",
            "             allergy       0.00      0.00      0.00         8\n",
            "                itch       0.00      0.00      0.00         8\n",
            "            medicine       0.00      0.00      0.00         8\n",
            " monthly circulation       0.33      0.12      0.18         8\n",
            "                sick       0.00      0.00      0.00         8\n",
            "             capsule       0.00      0.00      0.00         8\n",
            "     liquid medicine       0.00      0.00      0.00         8\n",
            "            ointment       0.00      0.00      0.00         8\n",
            "             dropper       0.00      0.00      0.00         8\n",
            "         acupuncture       0.00      0.00      0.00         8\n",
            "         pollination       0.00      0.00      0.00         8\n",
            "         inoculation       0.28      0.62      0.38         8\n",
            "           laser ray       0.00      0.00      0.00         8\n",
            "              drug's       0.00      0.00      0.00         8\n",
            "           addiction       0.00      0.00      0.00         8\n",
            "             oneness       0.00      0.00      0.00         8\n",
            "           mongoloid       0.00      0.00      0.00         8\n",
            "           bacterium       0.40      0.50      0.44         8\n",
            "             microbe       0.20      0.12      0.15         8\n",
            "               virus       0.00      0.00      0.00         8\n",
            "              spread       0.00      0.00      0.00         8\n",
            "           hindrance       0.00      0.00      0.00         8\n",
            " mentality hindrance       0.00      0.00      0.00         8\n",
            " physical disability       0.00      0.00      0.00         8\n",
            "   visual impairment       0.70      0.88      0.78         8\n",
            "   hearing hindrance       0.00      0.00      0.00         8\n",
            "            epidemic       0.00      0.00      0.00         8\n",
            "            immunity       0.00      0.00      0.00         8\n",
            "               nerve       0.00      0.00      0.00         8\n",
            "             healthy       0.00      0.00      0.00         8\n",
            "                 eat       0.83      0.62      0.71         8\n",
            "               drink       0.00      0.00      0.00         8\n",
            "               sleep       0.00      0.00      0.00         8\n",
            "             wake up       0.00      0.00      0.00         8\n",
            "                hear       0.00      0.00      0.00         8\n",
            "             silence       0.50      0.38      0.43         8\n",
            "              inhale       0.00      0.00      0.00         8\n",
            "                rise       0.25      0.12      0.17         8\n",
            "             descend       0.00      0.00      0.00         8\n",
            "                open       0.10      0.12      0.11         8\n",
            "               close       0.00      0.00      0.00         8\n",
            "\n",
            "            accuracy                           0.07       800\n",
            "           macro avg       0.06      0.07      0.06       800\n",
            "        weighted avg       0.06      0.07      0.06       800\n",
            "\n"
          ]
        },
        {
          "name": "stderr",
          "output_type": "stream",
          "text": [
            "C:\\Users\\yzmod\\AppData\\Roaming\\Python\\Python38\\site-packages\\sklearn\\metrics\\_classification.py:1344: UndefinedMetricWarning: Precision and F-score are ill-defined and being set to 0.0 in labels with no predicted samples. Use `zero_division` parameter to control this behavior.\n",
            "  _warn_prf(average, modifier, msg_start, len(result))\n",
            "C:\\Users\\yzmod\\AppData\\Roaming\\Python\\Python38\\site-packages\\sklearn\\metrics\\_classification.py:1344: UndefinedMetricWarning: Precision and F-score are ill-defined and being set to 0.0 in labels with no predicted samples. Use `zero_division` parameter to control this behavior.\n",
            "  _warn_prf(average, modifier, msg_start, len(result))\n",
            "C:\\Users\\yzmod\\AppData\\Roaming\\Python\\Python38\\site-packages\\sklearn\\metrics\\_classification.py:1344: UndefinedMetricWarning: Precision and F-score are ill-defined and being set to 0.0 in labels with no predicted samples. Use `zero_division` parameter to control this behavior.\n",
            "  _warn_prf(average, modifier, msg_start, len(result))\n"
          ]
        }
      ],
      "source": [
        "y_pred = seq_model.predict(test_data03, verbose=0)\n",
        "y_pred = np.argmax(y_pred, axis=1)\n",
        "\n",
        "print(\"The f1 score is: %.3f\" % f1_score(test_labels_03, y_pred, average='macro'))\n",
        "print(\"The MCC score is: %.3f\" % matthews_corrcoef(test_labels_03, y_pred))\n",
        "print(\"The GMean score is: %.3f\" % geometric_mean_score(test_labels_03, y_pred))\n",
        "print(classification_report(test_labels_03, y_pred, target_names=df['Sign-English'].unique()))"
      ]
    },
    {
      "cell_type": "markdown",
      "id": "bc1b7a79",
      "metadata": {
        "id": "bc1b7a79"
      },
      "source": [
        "# Dependent Results\n",
        "| Signer | Accuracy |\n",
        "| --- | --- |\n",
        "| 01 | 92.62% |\n",
        "| 02 | 97.75% |\n",
        "| 03 | 99.12% |"
      ]
    },
    {
      "cell_type": "markdown",
      "id": "5baab72b",
      "metadata": {
        "id": "5baab72b"
      },
      "source": [
        "# Independent Results\n",
        "| Signer | Accuracy |\n",
        "| --- | --- |\n",
        "| 01 (trained on 02,03) |  8.25% |\n",
        "| 02 (trained on 01,03) |  9.62% |\n",
        "| 03 (trained on 01,02) |  6.88% |"
      ]
    }
  ],
  "metadata": {
    "kernelspec": {
      "display_name": "Python 3 (ipykernel)",
      "language": "python",
      "name": "python3"
    },
    "language_info": {
      "codemirror_mode": {
        "name": "ipython",
        "version": 3
      },
      "file_extension": ".py",
      "mimetype": "text/x-python",
      "name": "python",
      "nbconvert_exporter": "python",
      "pygments_lexer": "ipython3",
      "version": "3.8.15"
    },
    "toc": {
      "base_numbering": 1,
      "nav_menu": {},
      "number_sections": true,
      "sideBar": true,
      "skip_h1_title": false,
      "title_cell": "Table of Contents",
      "title_sidebar": "Contents",
      "toc_cell": false,
      "toc_position": {},
      "toc_section_display": true,
      "toc_window_display": false
    },
    "colab": {
      "provenance": []
    }
  },
  "nbformat": 4,
  "nbformat_minor": 5
}